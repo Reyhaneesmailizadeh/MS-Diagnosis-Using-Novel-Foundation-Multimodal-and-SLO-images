{
  "nbformat": 4,
  "nbformat_minor": 0,
  "metadata": {
    "colab": {
      "provenance": [],
      "gpuType": "A100"
    },
    "kernelspec": {
      "name": "python3",
      "display_name": "Python 3"
    },
    "language_info": {
      "name": "python"
    },
    "accelerator": "GPU"
  },
  "cells": [
    {
      "cell_type": "code",
      "source": [
        "from google.colab import drive\n",
        "drive.mount('/content/drive')\n"
      ],
      "metadata": {
        "id": "uctUTACKr9UY"
      },
      "execution_count": null,
      "outputs": []
    },
    {
      "cell_type": "markdown",
      "metadata": {
        "id": "6sERtLvU4-fr"
      },
      "source": [
        "# Install dependencies"
      ]
    },
    {
      "cell_type": "code",
      "execution_count": 1,
      "metadata": {
        "colab": {
          "base_uri": "https://localhost:8080/"
        },
        "id": "ATcaIkuI4I5K",
        "outputId": "89280b3b-206e-430c-c0b7-7c70bfa0765b"
      },
      "outputs": [
        {
          "output_type": "stream",
          "name": "stdout",
          "text": [
            "--2025-05-18 17:31:07--  https://repo.continuum.io/miniconda/Miniconda3-py37_4.11.0-Linux-x86_64.sh\n",
            "Resolving repo.continuum.io (repo.continuum.io)... 104.18.177.84, 104.18.176.84, 2606:4700::6812:b054, ...\n",
            "Connecting to repo.continuum.io (repo.continuum.io)|104.18.177.84|:443... connected.\n",
            "HTTP request sent, awaiting response... 301 Moved Permanently\n",
            "Location: https://repo.anaconda.com/miniconda/Miniconda3-py37_4.11.0-Linux-x86_64.sh [following]\n",
            "--2025-05-18 17:31:07--  https://repo.anaconda.com/miniconda/Miniconda3-py37_4.11.0-Linux-x86_64.sh\n",
            "Resolving repo.anaconda.com (repo.anaconda.com)... 104.16.32.241, 104.16.191.158, 2606:4700::6810:bf9e, ...\n",
            "Connecting to repo.anaconda.com (repo.anaconda.com)|104.16.32.241|:443... connected.\n",
            "HTTP request sent, awaiting response... 200 OK\n",
            "Length: 103730670 (99M) [application/x-sh]\n",
            "Saving to: ‘Miniconda3-py37_4.11.0-Linux-x86_64.sh’\n",
            "\n",
            "Miniconda3-py37_4.1 100%[===================>]  98.92M   126MB/s    in 0.8s    \n",
            "\n",
            "2025-05-18 17:31:08 (126 MB/s) - ‘Miniconda3-py37_4.11.0-Linux-x86_64.sh’ saved [103730670/103730670]\n",
            "\n",
            "PREFIX=/usr/local\n",
            "Unpacking payload ...\n",
            "Collecting package metadata (current_repodata.json): - \b\b\\ \b\bdone\n",
            "Solving environment: / \b\b- \b\b\\ \b\bdone\n",
            "\n",
            "## Package Plan ##\n",
            "\n",
            "  environment location: /usr/local\n",
            "\n",
            "  added / updated specs:\n",
            "    - _libgcc_mutex==0.1=main\n",
            "    - _openmp_mutex==4.5=1_gnu\n",
            "    - brotlipy==0.7.0=py37h27cfd23_1003\n",
            "    - ca-certificates==2021.10.26=h06a4308_2\n",
            "    - certifi==2021.10.8=py37h06a4308_2\n",
            "    - cffi==1.15.0=py37hd667e15_1\n",
            "    - charset-normalizer==2.0.4=pyhd3eb1b0_0\n",
            "    - conda-content-trust==0.1.1=pyhd3eb1b0_0\n",
            "    - conda-package-handling==1.7.3=py37h27cfd23_1\n",
            "    - conda==4.11.0=py37h06a4308_0\n",
            "    - cryptography==36.0.0=py37h9ce1e76_0\n",
            "    - idna==3.3=pyhd3eb1b0_0\n",
            "    - ld_impl_linux-64==2.35.1=h7274673_9\n",
            "    - libffi==3.3=he6710b0_2\n",
            "    - libgcc-ng==9.3.0=h5101ec6_17\n",
            "    - libgomp==9.3.0=h5101ec6_17\n",
            "    - libstdcxx-ng==9.3.0=hd4cf53a_17\n",
            "    - ncurses==6.3=h7f8727e_2\n",
            "    - openssl==1.1.1m=h7f8727e_0\n",
            "    - pip==21.2.2=py37h06a4308_0\n",
            "    - pycosat==0.6.3=py37h27cfd23_0\n",
            "    - pycparser==2.21=pyhd3eb1b0_0\n",
            "    - pyopenssl==21.0.0=pyhd3eb1b0_1\n",
            "    - pysocks==1.7.1=py37_1\n",
            "    - python==3.7.11=h12debd9_0\n",
            "    - readline==8.1.2=h7f8727e_1\n",
            "    - requests==2.27.1=pyhd3eb1b0_0\n",
            "    - ruamel_yaml==0.15.100=py37h27cfd23_0\n",
            "    - setuptools==58.0.4=py37h06a4308_0\n",
            "    - six==1.16.0=pyhd3eb1b0_0\n",
            "    - sqlite==3.37.0=hc218d9a_0\n",
            "    - tk==8.6.11=h1ccaba5_0\n",
            "    - tqdm==4.62.3=pyhd3eb1b0_1\n",
            "    - urllib3==1.26.7=pyhd3eb1b0_0\n",
            "    - wheel==0.37.1=pyhd3eb1b0_0\n",
            "    - xz==5.2.5=h7b6447c_0\n",
            "    - yaml==0.2.5=h7b6447c_0\n",
            "    - zlib==1.2.11=h7f8727e_4\n",
            "\n",
            "\n",
            "The following NEW packages will be INSTALLED:\n",
            "\n",
            "  _libgcc_mutex      pkgs/main/linux-64::_libgcc_mutex-0.1-main\n",
            "  _openmp_mutex      pkgs/main/linux-64::_openmp_mutex-4.5-1_gnu\n",
            "  brotlipy           pkgs/main/linux-64::brotlipy-0.7.0-py37h27cfd23_1003\n",
            "  ca-certificates    pkgs/main/linux-64::ca-certificates-2021.10.26-h06a4308_2\n",
            "  certifi            pkgs/main/linux-64::certifi-2021.10.8-py37h06a4308_2\n",
            "  cffi               pkgs/main/linux-64::cffi-1.15.0-py37hd667e15_1\n",
            "  charset-normalizer pkgs/main/noarch::charset-normalizer-2.0.4-pyhd3eb1b0_0\n",
            "  conda              pkgs/main/linux-64::conda-4.11.0-py37h06a4308_0\n",
            "  conda-content-tru~ pkgs/main/noarch::conda-content-trust-0.1.1-pyhd3eb1b0_0\n",
            "  conda-package-han~ pkgs/main/linux-64::conda-package-handling-1.7.3-py37h27cfd23_1\n",
            "  cryptography       pkgs/main/linux-64::cryptography-36.0.0-py37h9ce1e76_0\n",
            "  idna               pkgs/main/noarch::idna-3.3-pyhd3eb1b0_0\n",
            "  ld_impl_linux-64   pkgs/main/linux-64::ld_impl_linux-64-2.35.1-h7274673_9\n",
            "  libffi             pkgs/main/linux-64::libffi-3.3-he6710b0_2\n",
            "  libgcc-ng          pkgs/main/linux-64::libgcc-ng-9.3.0-h5101ec6_17\n",
            "  libgomp            pkgs/main/linux-64::libgomp-9.3.0-h5101ec6_17\n",
            "  libstdcxx-ng       pkgs/main/linux-64::libstdcxx-ng-9.3.0-hd4cf53a_17\n",
            "  ncurses            pkgs/main/linux-64::ncurses-6.3-h7f8727e_2\n",
            "  openssl            pkgs/main/linux-64::openssl-1.1.1m-h7f8727e_0\n",
            "  pip                pkgs/main/linux-64::pip-21.2.2-py37h06a4308_0\n",
            "  pycosat            pkgs/main/linux-64::pycosat-0.6.3-py37h27cfd23_0\n",
            "  pycparser          pkgs/main/noarch::pycparser-2.21-pyhd3eb1b0_0\n",
            "  pyopenssl          pkgs/main/noarch::pyopenssl-21.0.0-pyhd3eb1b0_1\n",
            "  pysocks            pkgs/main/linux-64::pysocks-1.7.1-py37_1\n",
            "  python             pkgs/main/linux-64::python-3.7.11-h12debd9_0\n",
            "  readline           pkgs/main/linux-64::readline-8.1.2-h7f8727e_1\n",
            "  requests           pkgs/main/noarch::requests-2.27.1-pyhd3eb1b0_0\n",
            "  ruamel_yaml        pkgs/main/linux-64::ruamel_yaml-0.15.100-py37h27cfd23_0\n",
            "  setuptools         pkgs/main/linux-64::setuptools-58.0.4-py37h06a4308_0\n",
            "  six                pkgs/main/noarch::six-1.16.0-pyhd3eb1b0_0\n",
            "  sqlite             pkgs/main/linux-64::sqlite-3.37.0-hc218d9a_0\n",
            "  tk                 pkgs/main/linux-64::tk-8.6.11-h1ccaba5_0\n",
            "  tqdm               pkgs/main/noarch::tqdm-4.62.3-pyhd3eb1b0_1\n",
            "  urllib3            pkgs/main/noarch::urllib3-1.26.7-pyhd3eb1b0_0\n",
            "  wheel              pkgs/main/noarch::wheel-0.37.1-pyhd3eb1b0_0\n",
            "  xz                 pkgs/main/linux-64::xz-5.2.5-h7b6447c_0\n",
            "  yaml               pkgs/main/linux-64::yaml-0.2.5-h7b6447c_0\n",
            "  zlib               pkgs/main/linux-64::zlib-1.2.11-h7f8727e_4\n",
            "\n",
            "\n",
            "Preparing transaction: / \b\b- \b\b\\ \b\bdone\n",
            "Executing transaction: / \b\b- \b\b\\ \b\b| \b\b/ \b\b- \b\b\\ \b\b| \b\b/ \b\b- \b\b\\ \b\b| \b\bdone\n",
            "installation finished.\n",
            "WARNING:\n",
            "    You currently have a PYTHONPATH environment variable set. This may cause\n",
            "    unexpected behavior when running the Python interpreter in Miniconda3.\n",
            "    For best results, please verify that your PYTHONPATH only points to\n",
            "    directories of packages that are compatible with the Python interpreter\n",
            "    in Miniconda3: /usr/local\n"
          ]
        },
        {
          "output_type": "execute_result",
          "data": {
            "text/plain": []
          },
          "metadata": {},
          "execution_count": 1
        }
      ],
      "source": [
        "#Code from https://github.com/rmaphoh/RETFound_MAE\n",
        "%%shell\n",
        "MINICONDA_INSTALLER_SCRIPT=Miniconda3-py37_4.11.0-Linux-x86_64.sh\n",
        "MINICONDA_PREFIX=/usr/local\n",
        "wget https://repo.continuum.io/miniconda/$MINICONDA_INSTALLER_SCRIPT\n",
        "chmod +x $MINICONDA_INSTALLER_SCRIPT\n",
        "./$MINICONDA_INSTALLER_SCRIPT -b -f -p $MINICONDA_PREFIX"
      ]
    },
    {
      "cell_type": "code",
      "execution_count": 2,
      "metadata": {
        "colab": {
          "base_uri": "https://localhost:8080/"
        },
        "id": "vAZj8UYh4Kpi",
        "outputId": "4303a13a-cada-407f-c134-f58dade73d16"
      },
      "outputs": [
        {
          "output_type": "stream",
          "name": "stdout",
          "text": [
            "no change     /usr/local/condabin/conda\n",
            "no change     /usr/local/bin/conda\n",
            "no change     /usr/local/bin/conda-env\n",
            "no change     /usr/local/bin/activate\n",
            "no change     /usr/local/bin/deactivate\n",
            "no change     /usr/local/etc/profile.d/conda.sh\n",
            "no change     /usr/local/etc/fish/conf.d/conda.fish\n",
            "no change     /usr/local/shell/condabin/Conda.psm1\n",
            "no change     /usr/local/shell/condabin/conda-hook.ps1\n",
            "no change     /usr/local/lib/python3.7/site-packages/xontrib/conda.xsh\n",
            "no change     /usr/local/etc/profile.d/conda.csh\n",
            "modified      /root/.bashrc\n",
            "\n",
            "==> For changes to take effect, close and re-open your current shell. <==\n",
            "\n",
            "Collecting package metadata (current_repodata.json): - \b\b\\ \b\b| \b\b/ \b\b- \b\b\\ \b\b| \b\b/ \b\b- \b\b\\ \b\b| \b\b/ \b\b- \b\b\\ \b\b| \b\b/ \b\b- \b\b\\ \b\b| \b\b/ \b\b- \b\b\\ \b\b| \b\b/ \b\b- \b\b\\ \b\b| \b\b/ \b\bdone\n",
            "Solving environment: \\ \b\bfailed with repodata from current_repodata.json, will retry with next repodata source.\n",
            "Collecting package metadata (repodata.json): / \b\b- \b\b\\ \b\b| \b\b/ \b\b- \b\b\\ \b\b| \b\b/ \b\b- \b\b\\ \b\b| \b\b/ \b\b- \b\b\\ \b\b| \b\b/ \b\b- \b\b\\ \b\b| \b\b/ \b\b- \b\b\\ \b\b| \b\b/ \b\b- \b\b\\ \b\b| \b\b/ \b\b- \b\b\\ \b\b| \b\b/ \b\b- \b\b\\ \b\b| \b\b/ \b\b- \b\b\\ \b\b| \b\b/ \b\b- \b\b\\ \b\b| \b\b/ \b\b- \b\b\\ \b\b| \b\b/ \b\b- \b\b\\ \b\b| \b\b/ \b\b- \b\b\\ \b\b| \b\b/ \b\b- \b\b\\ \b\b| \b\b/ \b\b- \b\b\\ \b\b| \b\b/ \b\b- \b\bdone\n",
            "Solving environment: | \b\b/ \b\b- \b\b\\ \b\b| \b\bdone\n",
            "\n",
            "\n",
            "==> WARNING: A newer version of conda exists. <==\n",
            "  current version: 4.11.0\n",
            "  latest version: 25.3.1\n",
            "\n",
            "Please update conda by running\n",
            "\n",
            "    $ conda update -n base -c defaults conda\n",
            "\n",
            "\n",
            "\n",
            "## Package Plan ##\n",
            "\n",
            "  environment location: /usr/local/envs/retfound\n",
            "\n",
            "  added / updated specs:\n",
            "    - python=3.7.5\n",
            "\n",
            "\n",
            "The following packages will be downloaded:\n",
            "\n",
            "    package                    |            build\n",
            "    ---------------------------|-----------------\n",
            "    _openmp_mutex-5.1          |            1_gnu          21 KB\n",
            "    ca-certificates-2025.2.25  |       h06a4308_0         129 KB\n",
            "    certifi-2022.12.7          |   py37h06a4308_0         150 KB\n",
            "    libedit-3.1.20230828       |       h5eee18b_0         179 KB\n",
            "    libffi-3.2.1               |    hf484d3e_1007          48 KB\n",
            "    libgcc-ng-11.2.0           |       h1234567_1         5.3 MB\n",
            "    libgomp-11.2.0             |       h1234567_1         474 KB\n",
            "    libstdcxx-ng-11.2.0        |       h1234567_1         4.7 MB\n",
            "    ncurses-6.4                |       h6a678d5_0         914 KB\n",
            "    openssl-1.1.1w             |       h7f8727e_0         3.7 MB\n",
            "    pip-22.3.1                 |   py37h06a4308_0         2.7 MB\n",
            "    python-3.7.5               |       h0371630_0        32.2 MB\n",
            "    readline-7.0               |       h7b6447c_5         324 KB\n",
            "    setuptools-65.6.3          |   py37h06a4308_0         1.1 MB\n",
            "    sqlite-3.33.0              |       h62c20be_0         1.1 MB\n",
            "    tk-8.6.14                  |       h39e8969_0         3.4 MB\n",
            "    wheel-0.38.4               |   py37h06a4308_0          63 KB\n",
            "    xz-5.6.4                   |       h5eee18b_1         567 KB\n",
            "    zlib-1.2.13                |       h5eee18b_1         111 KB\n",
            "    ------------------------------------------------------------\n",
            "                                           Total:        57.2 MB\n",
            "\n",
            "The following NEW packages will be INSTALLED:\n",
            "\n",
            "  _libgcc_mutex      pkgs/main/linux-64::_libgcc_mutex-0.1-main\n",
            "  _openmp_mutex      pkgs/main/linux-64::_openmp_mutex-5.1-1_gnu\n",
            "  ca-certificates    pkgs/main/linux-64::ca-certificates-2025.2.25-h06a4308_0\n",
            "  certifi            pkgs/main/linux-64::certifi-2022.12.7-py37h06a4308_0\n",
            "  libedit            pkgs/main/linux-64::libedit-3.1.20230828-h5eee18b_0\n",
            "  libffi             pkgs/main/linux-64::libffi-3.2.1-hf484d3e_1007\n",
            "  libgcc-ng          pkgs/main/linux-64::libgcc-ng-11.2.0-h1234567_1\n",
            "  libgomp            pkgs/main/linux-64::libgomp-11.2.0-h1234567_1\n",
            "  libstdcxx-ng       pkgs/main/linux-64::libstdcxx-ng-11.2.0-h1234567_1\n",
            "  ncurses            pkgs/main/linux-64::ncurses-6.4-h6a678d5_0\n",
            "  openssl            pkgs/main/linux-64::openssl-1.1.1w-h7f8727e_0\n",
            "  pip                pkgs/main/linux-64::pip-22.3.1-py37h06a4308_0\n",
            "  python             pkgs/main/linux-64::python-3.7.5-h0371630_0\n",
            "  readline           pkgs/main/linux-64::readline-7.0-h7b6447c_5\n",
            "  setuptools         pkgs/main/linux-64::setuptools-65.6.3-py37h06a4308_0\n",
            "  sqlite             pkgs/main/linux-64::sqlite-3.33.0-h62c20be_0\n",
            "  tk                 pkgs/main/linux-64::tk-8.6.14-h39e8969_0\n",
            "  wheel              pkgs/main/linux-64::wheel-0.38.4-py37h06a4308_0\n",
            "  xz                 pkgs/main/linux-64::xz-5.6.4-h5eee18b_1\n",
            "  zlib               pkgs/main/linux-64::zlib-1.2.13-h5eee18b_1\n",
            "\n",
            "\n",
            "\n",
            "Downloading and Extracting Packages\n",
            "readline-7.0         | 324 KB    | : 100% 1.0/1 [00:00<00:00,  3.87it/s]\n",
            "certifi-2022.12.7    | 150 KB    | : 100% 1.0/1 [00:00<00:00,  5.56it/s]\n",
            "ca-certificates-2025 | 129 KB    | : 100% 1.0/1 [00:00<00:00,  5.40it/s]\n",
            "ncurses-6.4          | 914 KB    | : 100% 1.0/1 [00:00<00:00,  2.69it/s]\n",
            "wheel-0.38.4         | 63 KB     | : 100% 1.0/1 [00:00<00:00,  5.68it/s]\n",
            "_openmp_mutex-5.1    | 21 KB     | : 100% 1.0/1 [00:00<00:00,  5.95it/s]\n",
            "openssl-1.1.1w       | 3.7 MB    | : 100% 1.0/1 [00:00<00:00,  4.00it/s]\n",
            "python-3.7.5         | 32.2 MB   | : 100% 1.0/1 [00:01<00:00,  1.03s/it]               \n",
            "pip-22.3.1           | 2.7 MB    | : 100% 1.0/1 [00:00<00:00,  3.04it/s]\n",
            "libgomp-11.2.0       | 474 KB    | : 100% 1.0/1 [00:00<00:00,  5.26it/s]\n",
            "xz-5.6.4             | 567 KB    | : 100% 1.0/1 [00:00<00:00,  4.99it/s]\n",
            "libedit-3.1.20230828 | 179 KB    | : 100% 1.0/1 [00:00<00:00,  4.59it/s]\n",
            "zlib-1.2.13          | 111 KB    | : 100% 1.0/1 [00:00<00:00,  5.43it/s]\n",
            "libgcc-ng-11.2.0     | 5.3 MB    | : 100% 1.0/1 [00:00<00:00,  3.34it/s]\n",
            "setuptools-65.6.3    | 1.1 MB    | : 100% 1.0/1 [00:00<00:00,  4.63it/s]\n",
            "libffi-3.2.1         | 48 KB     | : 100% 1.0/1 [00:00<00:00,  5.86it/s]\n",
            "sqlite-3.33.0        | 1.1 MB    | : 100% 1.0/1 [00:00<00:00,  5.15it/s]\n",
            "libstdcxx-ng-11.2.0  | 4.7 MB    | : 100% 1.0/1 [00:00<00:00,  2.58it/s]               \n",
            "tk-8.6.14            | 3.4 MB    | : 100% 1.0/1 [00:00<00:00,  3.31it/s]               \n",
            "Preparing transaction: - \b\b\\ \b\b| \b\bdone\n",
            "Verifying transaction: - \b\b\\ \b\b| \b\b/ \b\b- \b\b\\ \b\b| \b\b/ \b\bdone\n",
            "Executing transaction: \\ \b\b| \b\b/ \b\b- \b\b\\ \b\b| \b\bdone\n",
            "#\n",
            "# To activate this environment, use\n",
            "#\n",
            "#     $ conda activate retfound\n",
            "#\n",
            "# To deactivate an active environment, use\n",
            "#\n",
            "#     $ conda deactivate\n",
            "\n",
            "Python 3.7.5\n",
            "Collecting ipykernel\n",
            "  Downloading ipykernel-6.16.2-py3-none-any.whl (138 kB)\n",
            "\u001b[2K     \u001b[90m━━━━━━━━━━━━━━━━━━━━━━━━━━━━━━━━━━━━━━━\u001b[0m \u001b[32m138.5/138.5 kB\u001b[0m \u001b[31m4.1 MB/s\u001b[0m eta \u001b[36m0:00:00\u001b[0m\n",
            "\u001b[?25hCollecting packaging\n",
            "  Downloading packaging-24.0-py3-none-any.whl (53 kB)\n",
            "\u001b[2K     \u001b[90m━━━━━━━━━━━━━━━━━━━━━━━━━━━━━━━━━━━━━━━━\u001b[0m \u001b[32m53.5/53.5 kB\u001b[0m \u001b[31m8.3 MB/s\u001b[0m eta \u001b[36m0:00:00\u001b[0m\n",
            "\u001b[?25hCollecting nest-asyncio\n",
            "  Downloading nest_asyncio-1.6.0-py3-none-any.whl (5.2 kB)\n",
            "Collecting jupyter-client>=6.1.12\n",
            "  Downloading jupyter_client-7.4.9-py3-none-any.whl (133 kB)\n",
            "\u001b[2K     \u001b[90m━━━━━━━━━━━━━━━━━━━━━━━━━━━━━━━━━━━━━━\u001b[0m \u001b[32m133.5/133.5 kB\u001b[0m \u001b[31m19.8 MB/s\u001b[0m eta \u001b[36m0:00:00\u001b[0m\n",
            "\u001b[?25hCollecting matplotlib-inline>=0.1\n",
            "  Downloading matplotlib_inline-0.1.6-py3-none-any.whl (9.4 kB)\n",
            "Collecting tornado>=6.1\n",
            "  Downloading tornado-6.2-cp37-abi3-manylinux_2_5_x86_64.manylinux1_x86_64.manylinux_2_17_x86_64.manylinux2014_x86_64.whl (423 kB)\n",
            "\u001b[2K     \u001b[90m━━━━━━━━━━━━━━━━━━━━━━━━━━━━━━━━━━━━━━\u001b[0m \u001b[32m424.0/424.0 kB\u001b[0m \u001b[31m22.9 MB/s\u001b[0m eta \u001b[36m0:00:00\u001b[0m\n",
            "\u001b[?25hCollecting traitlets>=5.1.0\n",
            "  Downloading traitlets-5.9.0-py3-none-any.whl (117 kB)\n",
            "\u001b[2K     \u001b[90m━━━━━━━━━━━━━━━━━━━━━━━━━━━━━━━━━━━━━━\u001b[0m \u001b[32m117.4/117.4 kB\u001b[0m \u001b[31m19.5 MB/s\u001b[0m eta \u001b[36m0:00:00\u001b[0m\n",
            "\u001b[?25hCollecting pyzmq>=17\n",
            "  Downloading pyzmq-26.2.1-cp37-cp37m-manylinux_2_12_x86_64.manylinux2010_x86_64.whl (863 kB)\n",
            "\u001b[2K     \u001b[90m━━━━━━━━━━━━━━━━━━━━━━━━━━━━━━━━━━━━━━\u001b[0m \u001b[32m864.0/864.0 kB\u001b[0m \u001b[31m47.2 MB/s\u001b[0m eta \u001b[36m0:00:00\u001b[0m\n",
            "\u001b[?25hCollecting ipython>=7.23.1\n",
            "  Downloading ipython-7.34.0-py3-none-any.whl (793 kB)\n",
            "\u001b[2K     \u001b[90m━━━━━━━━━━━━━━━━━━━━━━━━━━━━━━━━━━━━━━\u001b[0m \u001b[32m793.8/793.8 kB\u001b[0m \u001b[31m61.2 MB/s\u001b[0m eta \u001b[36m0:00:00\u001b[0m\n",
            "\u001b[?25hCollecting debugpy>=1.0\n",
            "  Downloading debugpy-1.7.0-cp37-cp37m-manylinux_2_17_x86_64.manylinux2014_x86_64.whl (3.2 MB)\n",
            "\u001b[2K     \u001b[90m━━━━━━━━━━━━━━━━━━━━━━━━━━━━━━━━━━━━━━━━\u001b[0m \u001b[32m3.2/3.2 MB\u001b[0m \u001b[31m83.1 MB/s\u001b[0m eta \u001b[36m0:00:00\u001b[0m\n",
            "\u001b[?25hCollecting psutil\n",
            "  Downloading psutil-7.0.0-cp36-abi3-manylinux_2_12_x86_64.manylinux2010_x86_64.manylinux_2_17_x86_64.manylinux2014_x86_64.whl (277 kB)\n",
            "\u001b[2K     \u001b[90m━━━━━━━━━━━━━━━━━━━━━━━━━━━━━━━━━━━━━━\u001b[0m \u001b[32m278.0/278.0 kB\u001b[0m \u001b[31m35.0 MB/s\u001b[0m eta \u001b[36m0:00:00\u001b[0m\n",
            "\u001b[?25hCollecting prompt-toolkit!=3.0.0,!=3.0.1,<3.1.0,>=2.0.0\n",
            "  Downloading prompt_toolkit-3.0.48-py3-none-any.whl (386 kB)\n",
            "\u001b[2K     \u001b[90m━━━━━━━━━━━━━━━━━━━━━━━━━━━━━━━━━━━━━━\u001b[0m \u001b[32m386.6/386.6 kB\u001b[0m \u001b[31m41.8 MB/s\u001b[0m eta \u001b[36m0:00:00\u001b[0m\n",
            "\u001b[?25hCollecting decorator\n",
            "  Downloading decorator-5.1.1-py3-none-any.whl (9.1 kB)\n",
            "Collecting jedi>=0.16\n",
            "  Downloading jedi-0.19.2-py2.py3-none-any.whl (1.6 MB)\n",
            "\u001b[2K     \u001b[90m━━━━━━━━━━━━━━━━━━━━━━━━━━━━━━━━━━━━━━━━\u001b[0m \u001b[32m1.6/1.6 MB\u001b[0m \u001b[31m86.9 MB/s\u001b[0m eta \u001b[36m0:00:00\u001b[0m\n",
            "\u001b[?25hCollecting pexpect>4.3\n",
            "  Downloading pexpect-4.9.0-py2.py3-none-any.whl (63 kB)\n",
            "\u001b[2K     \u001b[90m━━━━━━━━━━━━━━━━━━━━━━━━━━━━━━━━━━━━━━━━\u001b[0m \u001b[32m63.8/63.8 kB\u001b[0m \u001b[31m8.8 MB/s\u001b[0m eta \u001b[36m0:00:00\u001b[0m\n",
            "\u001b[?25hCollecting pygments\n",
            "  Downloading pygments-2.17.2-py3-none-any.whl (1.2 MB)\n",
            "\u001b[2K     \u001b[90m━━━━━━━━━━━━━━━━━━━━━━━━━━━━━━━━━━━━━━━━\u001b[0m \u001b[32m1.2/1.2 MB\u001b[0m \u001b[31m2.1 MB/s\u001b[0m eta \u001b[36m0:00:00\u001b[0m\n",
            "\u001b[?25hCollecting backcall\n",
            "  Downloading backcall-0.2.0-py2.py3-none-any.whl (11 kB)\n",
            "Requirement already satisfied: setuptools>=18.5 in /usr/local/envs/retfound/lib/python3.7/site-packages (from ipython>=7.23.1->ipykernel) (65.6.3)\n",
            "Collecting pickleshare\n",
            "  Downloading pickleshare-0.7.5-py2.py3-none-any.whl (6.9 kB)\n",
            "Collecting entrypoints\n",
            "  Downloading entrypoints-0.4-py3-none-any.whl (5.3 kB)\n",
            "Collecting jupyter-core>=4.9.2\n",
            "  Downloading jupyter_core-4.12.0-py3-none-any.whl (89 kB)\n",
            "\u001b[2K     \u001b[90m━━━━━━━━━━━━━━━━━━━━━━━━━━━━━━━━━━━━━━━━\u001b[0m \u001b[32m89.9/89.9 kB\u001b[0m \u001b[31m13.9 MB/s\u001b[0m eta \u001b[36m0:00:00\u001b[0m\n",
            "\u001b[?25hCollecting python-dateutil>=2.8.2\n",
            "  Downloading python_dateutil-2.9.0.post0-py2.py3-none-any.whl (229 kB)\n",
            "\u001b[2K     \u001b[90m━━━━━━━━━━━━━━━━━━━━━━━━━━━━━━━━━━━━━━\u001b[0m \u001b[32m229.9/229.9 kB\u001b[0m \u001b[31m31.1 MB/s\u001b[0m eta \u001b[36m0:00:00\u001b[0m\n",
            "\u001b[?25hCollecting parso<0.9.0,>=0.8.4\n",
            "  Downloading parso-0.8.4-py2.py3-none-any.whl (103 kB)\n",
            "\u001b[2K     \u001b[90m━━━━━━━━━━━━━━━━━━━━━━━━━━━━━━━━━━━━━━\u001b[0m \u001b[32m103.7/103.7 kB\u001b[0m \u001b[31m15.6 MB/s\u001b[0m eta \u001b[36m0:00:00\u001b[0m\n",
            "\u001b[?25hCollecting ptyprocess>=0.5\n",
            "  Downloading ptyprocess-0.7.0-py2.py3-none-any.whl (13 kB)\n",
            "Collecting wcwidth\n",
            "  Downloading wcwidth-0.2.13-py2.py3-none-any.whl (34 kB)\n",
            "Collecting six>=1.5\n",
            "  Downloading six-1.17.0-py2.py3-none-any.whl (11 kB)\n",
            "Installing collected packages: wcwidth, ptyprocess, pickleshare, backcall, traitlets, tornado, six, pyzmq, pygments, psutil, prompt-toolkit, pexpect, parso, packaging, nest-asyncio, entrypoints, decorator, debugpy, python-dateutil, matplotlib-inline, jupyter-core, jedi, jupyter-client, ipython, ipykernel\n",
            "Successfully installed backcall-0.2.0 debugpy-1.7.0 decorator-5.1.1 entrypoints-0.4 ipykernel-6.16.2 ipython-7.34.0 jedi-0.19.2 jupyter-client-7.4.9 jupyter-core-4.12.0 matplotlib-inline-0.1.6 nest-asyncio-1.6.0 packaging-24.0 parso-0.8.4 pexpect-4.9.0 pickleshare-0.7.5 prompt-toolkit-3.0.48 psutil-7.0.0 ptyprocess-0.7.0 pygments-2.17.2 python-dateutil-2.9.0.post0 pyzmq-26.2.1 six-1.17.0 tornado-6.2 traitlets-5.9.0 wcwidth-0.2.13\n",
            "Installed kernelspec python3 in /root/.local/share/jupyter/kernels/python3\n"
          ]
        },
        {
          "output_type": "execute_result",
          "data": {
            "text/plain": []
          },
          "metadata": {},
          "execution_count": 2
        }
      ],
      "source": [
        "#Code from https://github.com/rmaphoh/RETFound_MAE\n",
        "%%shell\n",
        "eval \"$(conda shell.bash hook)\" # copy conda command to shell\n",
        "source /usr/local/etc/profile.d/conda.sh\n",
        "conda init\n",
        "conda create -n retfound python=3.7.5 -y\n",
        "conda activate retfound\n",
        "python --version\n",
        "pip install ipykernel\n",
        "python -m ipykernel install --user"
      ]
    },
    {
      "cell_type": "markdown",
      "metadata": {
        "id": "qJR3JPPl4SWw"
      },
      "source": [
        "# Clone RetFound Edited and install packages"
      ]
    },
    {
      "cell_type": "markdown",
      "source": [
        "Before cloning, make sure you have forked this repo: https://github.com/Reyhaneesmailizadeh/RETFound-Edited"
      ],
      "metadata": {
        "id": "NlfJeAo8y0ZG"
      }
    },
    {
      "cell_type": "code",
      "execution_count": 3,
      "metadata": {
        "colab": {
          "base_uri": "https://localhost:8080/"
        },
        "id": "0UTuE05v4MPZ",
        "outputId": "aac7856f-16f6-47bf-f2d8-b1ff9e185771"
      },
      "outputs": [
        {
          "metadata": {
            "tags": null
          },
          "name": "stdout",
          "output_type": "stream",
          "text": [
            "Cloning into 'RETFound-Edited'...\n",
            "remote: Enumerating objects: 416, done.\u001b[K\n",
            "remote: Counting objects: 100% (254/254), done.\u001b[K\n",
            "remote: Compressing objects: 100% (52/52), done.\u001b[K\n",
            "remote: Total 416 (delta 239), reused 202 (delta 202), pack-reused 162 (from 2)\u001b[K\n",
            "Receiving objects: 100% (416/416), 503.88 KiB | 8.00 MiB/s, done.\n",
            "Resolving deltas: 100% (260/260), done.\n",
            "Collecting certifi\n",
            "  Downloading certifi-2025.4.26-py3-none-any.whl (159 kB)\n",
            "\u001b[2K     \u001b[90m━━━━━━━━━━━━━━━━━━━━━━━━━━━━━━━━━━━━━━━\u001b[0m \u001b[32m159.6/159.6 kB\u001b[0m \u001b[31m3.6 MB/s\u001b[0m eta \u001b[36m0:00:00\u001b[0m\n",
            "\u001b[?25hInstalling collected packages: certifi\n",
            "Successfully installed certifi-2025.4.26\n",
            "Looking in links: https://download.pytorch.org/whl/torch_stable.html\n",
            "Collecting torch==1.8.1+cu111\n",
            "  Downloading https://download.pytorch.org/whl/cu111/torch-1.8.1%2Bcu111-cp37-cp37m-linux_x86_64.whl (1982.2 MB)\n",
            "\u001b[2K     \u001b[90m━━━━━━━━━━━━━━━━━━━━━━━━━━━━━━━━━━━━━━━━\u001b[0m \u001b[32m2.0/2.0 GB\u001b[0m \u001b[31m921.4 kB/s\u001b[0m eta \u001b[36m0:00:00\u001b[0m\n",
            "\u001b[?25hCollecting torchvision==0.9.1+cu111\n",
            "  Downloading https://download.pytorch.org/whl/cu111/torchvision-0.9.1%2Bcu111-cp37-cp37m-linux_x86_64.whl (17.6 MB)\n",
            "\u001b[2K     \u001b[90m━━━━━━━━━━━━━━━━━━━━━━━━━━━━━━━━━━━━━━━━\u001b[0m \u001b[32m17.6/17.6 MB\u001b[0m \u001b[31m68.9 MB/s\u001b[0m eta \u001b[36m0:00:00\u001b[0m\n",
            "\u001b[?25hCollecting torchaudio==0.8.1\n",
            "  Downloading torchaudio-0.8.1-cp37-cp37m-manylinux1_x86_64.whl (1.9 MB)\n",
            "\u001b[2K     \u001b[90m━━━━━━━━━━━━━━━━━━━━━━━━━━━━━━━━━━━━━━━━\u001b[0m \u001b[32m1.9/1.9 MB\u001b[0m \u001b[31m22.6 MB/s\u001b[0m eta \u001b[36m0:00:00\u001b[0m\n",
            "\u001b[?25hCollecting opencv-python==4.5.3.56\n",
            "  Downloading opencv_python-4.5.3.56-cp37-cp37m-manylinux2014_x86_64.whl (49.9 MB)\n",
            "\u001b[2K     \u001b[90m━━━━━━━━━━━━━━━━━━━━━━━━━━━━━━━━━━━━━━━━\u001b[0m \u001b[32m49.9/49.9 MB\u001b[0m \u001b[31m26.9 MB/s\u001b[0m eta \u001b[36m0:00:00\u001b[0m\n",
            "\u001b[?25hCollecting pandas==0.25.3\n",
            "  Downloading pandas-0.25.3-cp37-cp37m-manylinux1_x86_64.whl (10.4 MB)\n",
            "\u001b[2K     \u001b[90m━━━━━━━━━━━━━━━━━━━━━━━━━━━━━━━━━━━━━━━\u001b[0m \u001b[32m10.4/10.4 MB\u001b[0m \u001b[31m103.8 MB/s\u001b[0m eta \u001b[36m0:00:00\u001b[0m\n",
            "\u001b[?25hCollecting Pillow==8.3.1\n",
            "  Downloading Pillow-8.3.1-cp37-cp37m-manylinux_2_5_x86_64.manylinux1_x86_64.whl (3.0 MB)\n",
            "\u001b[2K     \u001b[90m━━━━━━━━━━━━━━━━━━━━━━━━━━━━━━━━━━━━━━━━\u001b[0m \u001b[32m3.0/3.0 MB\u001b[0m \u001b[31m96.8 MB/s\u001b[0m eta \u001b[36m0:00:00\u001b[0m\n",
            "\u001b[?25hCollecting protobuf==3.17.3\n",
            "  Downloading protobuf-3.17.3-cp37-cp37m-manylinux_2_5_x86_64.manylinux1_x86_64.whl (1.0 MB)\n",
            "\u001b[2K     \u001b[90m━━━━━━━━━━━━━━━━━━━━━━━━━━━━━━━━━━━━━━━━\u001b[0m \u001b[32m1.0/1.0 MB\u001b[0m \u001b[31m72.4 MB/s\u001b[0m eta \u001b[36m0:00:00\u001b[0m\n",
            "\u001b[?25hCollecting pycm==3.2\n",
            "  Downloading pycm-3.2-py2.py3-none-any.whl (64 kB)\n",
            "\u001b[2K     \u001b[90m━━━━━━━━━━━━━━━━━━━━━━━━━━━━━━━━━━━━━━━━\u001b[0m \u001b[32m64.5/64.5 kB\u001b[0m \u001b[31m10.2 MB/s\u001b[0m eta \u001b[36m0:00:00\u001b[0m\n",
            "\u001b[?25hCollecting pydicom==2.3.0\n",
            "  Downloading pydicom-2.3.0-py3-none-any.whl (2.0 MB)\n",
            "\u001b[2K     \u001b[90m━━━━━━━━━━━━━━━━━━━━━━━━━━━━━━━━━━━━━━━━\u001b[0m \u001b[32m2.0/2.0 MB\u001b[0m \u001b[31m83.7 MB/s\u001b[0m eta \u001b[36m0:00:00\u001b[0m\n",
            "\u001b[?25hCollecting scikit-image==0.17.2\n",
            "  Downloading scikit_image-0.17.2-cp37-cp37m-manylinux1_x86_64.whl (12.5 MB)\n",
            "\u001b[2K     \u001b[90m━━━━━━━━━━━━━━━━━━━━━━━━━━━━━━━━━━━━━━━━\u001b[0m \u001b[32m12.5/12.5 MB\u001b[0m \u001b[31m98.5 MB/s\u001b[0m eta \u001b[36m0:00:00\u001b[0m\n",
            "\u001b[?25hCollecting scikit-learn==0.24.2\n",
            "  Downloading scikit_learn-0.24.2-cp37-cp37m-manylinux2010_x86_64.whl (22.3 MB)\n",
            "\u001b[2K     \u001b[90m━━━━━━━━━━━━━━━━━━━━━━━━━━━━━━━━━━━━━━━━\u001b[0m \u001b[32m22.3/22.3 MB\u001b[0m \u001b[31m75.5 MB/s\u001b[0m eta \u001b[36m0:00:00\u001b[0m\n",
            "\u001b[?25hCollecting scipy==1.5.4\n",
            "  Downloading scipy-1.5.4-cp37-cp37m-manylinux1_x86_64.whl (25.9 MB)\n",
            "\u001b[2K     \u001b[90m━━━━━━━━━━━━━━━━━━━━━━━━━━━━━━━━━━━━━━━━\u001b[0m \u001b[32m25.9/25.9 MB\u001b[0m \u001b[31m65.1 MB/s\u001b[0m eta \u001b[36m0:00:00\u001b[0m\n",
            "\u001b[?25hCollecting tensorboard==2.6.0\n",
            "  Downloading tensorboard-2.6.0-py3-none-any.whl (5.6 MB)\n",
            "\u001b[2K     \u001b[90m━━━━━━━━━━━━━━━━━━━━━━━━━━━━━━━━━━━━━━━━\u001b[0m \u001b[32m5.6/5.6 MB\u001b[0m \u001b[31m110.4 MB/s\u001b[0m eta \u001b[36m0:00:00\u001b[0m\n",
            "\u001b[?25hCollecting tensorboard-data-server==0.6.1\n",
            "  Downloading tensorboard_data_server-0.6.1-py3-none-manylinux2010_x86_64.whl (4.9 MB)\n",
            "\u001b[2K     \u001b[90m━━━━━━━━━━━━━━━━━━━━━━━━━━━━━━━━━━━━━━━━\u001b[0m \u001b[32m4.9/4.9 MB\u001b[0m \u001b[31m114.2 MB/s\u001b[0m eta \u001b[36m0:00:00\u001b[0m\n",
            "\u001b[?25hCollecting tensorboard-plugin-wit==1.8.0\n",
            "  Downloading tensorboard_plugin_wit-1.8.0-py3-none-any.whl (781 kB)\n",
            "\u001b[2K     \u001b[90m━━━━━━━━━━━━━━━━━━━━━━━━━━━━━━━━━━━━━━\u001b[0m \u001b[32m781.2/781.2 kB\u001b[0m \u001b[31m64.5 MB/s\u001b[0m eta \u001b[36m0:00:00\u001b[0m\n",
            "\u001b[?25hCollecting timm==0.3.2\n",
            "  Downloading timm-0.3.2-py3-none-any.whl (244 kB)\n",
            "\u001b[2K     \u001b[90m━━━━━━━━━━━━━━━━━━━━━━━━━━━━━━━━━━━━━━\u001b[0m \u001b[32m244.2/244.2 kB\u001b[0m \u001b[31m26.2 MB/s\u001b[0m eta \u001b[36m0:00:00\u001b[0m\n",
            "\u001b[?25hCollecting tqdm==4.62.1\n",
            "  Downloading tqdm-4.62.1-py2.py3-none-any.whl (76 kB)\n",
            "\u001b[2K     \u001b[90m━━━━━━━━━━━━━━━━━━━━━━━━━━━━━━━━━━━━━━━━\u001b[0m \u001b[32m76.2/76.2 kB\u001b[0m \u001b[31m11.9 MB/s\u001b[0m eta \u001b[36m0:00:00\u001b[0m\n",
            "\u001b[?25hCollecting numpy\n",
            "  Downloading numpy-1.21.6-cp37-cp37m-manylinux_2_12_x86_64.manylinux2010_x86_64.whl (15.7 MB)\n",
            "\u001b[2K     \u001b[90m━━━━━━━━━━━━━━━━━━━━━━━━━━━━━━━━━━━━━━━━\u001b[0m \u001b[32m15.7/15.7 MB\u001b[0m \u001b[31m93.9 MB/s\u001b[0m eta \u001b[36m0:00:00\u001b[0m\n",
            "\u001b[?25hCollecting typing-extensions\n",
            "  Downloading https://download.pytorch.org/whl/typing_extensions-4.9.0-py3-none-any.whl (32 kB)\n",
            "Requirement already satisfied: python-dateutil>=2.6.1 in /usr/local/envs/retfound/lib/python3.7/site-packages (from pandas==0.25.3->-r requirement.txt (line 6)) (2.9.0.post0)\n",
            "Collecting pytz>=2017.2\n",
            "  Downloading pytz-2025.2-py2.py3-none-any.whl (509 kB)\n",
            "\u001b[2K     \u001b[90m━━━━━━━━━━━━━━━━━━━━━━━━━━━━━━━━━━━━━━\u001b[0m \u001b[32m509.2/509.2 kB\u001b[0m \u001b[31m50.4 MB/s\u001b[0m eta \u001b[36m0:00:00\u001b[0m\n",
            "\u001b[?25hRequirement already satisfied: six>=1.9 in /usr/local/envs/retfound/lib/python3.7/site-packages (from protobuf==3.17.3->-r requirement.txt (line 8)) (1.17.0)\n",
            "Collecting art>=1.8\n",
            "  Downloading art-6.5-py3-none-any.whl (610 kB)\n",
            "\u001b[2K     \u001b[90m━━━━━━━━━━━━━━━━━━━━━━━━━━━━━━━━━━━━━━\u001b[0m \u001b[32m610.4/610.4 kB\u001b[0m \u001b[31m53.2 MB/s\u001b[0m eta \u001b[36m0:00:00\u001b[0m\n",
            "\u001b[?25hCollecting imageio>=2.3.0\n",
            "  Downloading imageio-2.31.2-py3-none-any.whl (313 kB)\n",
            "\u001b[2K     \u001b[90m━━━━━━━━━━━━━━━━━━━━━━━━━━━━━━━━━━━━━━\u001b[0m \u001b[32m313.2/313.2 kB\u001b[0m \u001b[31m35.6 MB/s\u001b[0m eta \u001b[36m0:00:00\u001b[0m\n",
            "\u001b[?25hCollecting matplotlib!=3.0.0,>=2.0.0\n",
            "  Downloading matplotlib-3.5.3-cp37-cp37m-manylinux_2_5_x86_64.manylinux1_x86_64.whl (11.2 MB)\n",
            "\u001b[2K     \u001b[90m━━━━━━━━━━━━━━━━━━━━━━━━━━━━━━━━━━━━━━━\u001b[0m \u001b[32m11.2/11.2 MB\u001b[0m \u001b[31m117.7 MB/s\u001b[0m eta \u001b[36m0:00:00\u001b[0m\n",
            "\u001b[?25hCollecting networkx>=2.0\n",
            "  Downloading https://download.pytorch.org/whl/networkx-3.2.1-py3-none-any.whl (1.6 MB)\n",
            "\u001b[2K     \u001b[90m━━━━━━━━━━━━━━━━━━━━━━━━━━━━━━━━━━━━━━━━\u001b[0m \u001b[32m1.6/1.6 MB\u001b[0m \u001b[31m84.6 MB/s\u001b[0m eta \u001b[36m0:00:00\u001b[0m\n",
            "\u001b[?25hCollecting tifffile>=2019.7.26\n",
            "  Downloading tifffile-2021.11.2-py3-none-any.whl (178 kB)\n",
            "\u001b[2K     \u001b[90m━━━━━━━━━━━━━━━━━━━━━━━━━━━━━━━━━━━━━━\u001b[0m \u001b[32m178.9/178.9 kB\u001b[0m \u001b[31m25.1 MB/s\u001b[0m eta \u001b[36m0:00:00\u001b[0m\n",
            "\u001b[?25hCollecting PyWavelets>=1.1.1\n",
            "  Downloading PyWavelets-1.3.0-cp37-cp37m-manylinux_2_5_x86_64.manylinux1_x86_64.manylinux_2_12_x86_64.manylinux2010_x86_64.whl (6.4 MB)\n",
            "\u001b[2K     \u001b[90m━━━━━━━━━━━━━━━━━━━━━━━━━━━━━━━━━━━━━━━━\u001b[0m \u001b[32m6.4/6.4 MB\u001b[0m \u001b[31m108.9 MB/s\u001b[0m eta \u001b[36m0:00:00\u001b[0m\n",
            "\u001b[?25hCollecting joblib>=0.11\n",
            "  Downloading joblib-1.3.2-py3-none-any.whl (302 kB)\n",
            "\u001b[2K     \u001b[90m━━━━━━━━━━━━━━━━━━━━━━━━━━━━━━━━━━━━━━\u001b[0m \u001b[32m302.2/302.2 kB\u001b[0m \u001b[31m39.0 MB/s\u001b[0m eta \u001b[36m0:00:00\u001b[0m\n",
            "\u001b[?25hCollecting threadpoolctl>=2.0.0\n",
            "  Downloading threadpoolctl-3.1.0-py3-none-any.whl (14 kB)\n",
            "Requirement already satisfied: setuptools>=41.0.0 in /usr/local/envs/retfound/lib/python3.7/site-packages (from tensorboard==2.6.0->-r requirement.txt (line 14)) (65.6.3)\n",
            "Collecting werkzeug>=0.11.15\n",
            "  Downloading Werkzeug-2.2.3-py3-none-any.whl (233 kB)\n",
            "\u001b[2K     \u001b[90m━━━━━━━━━━━━━━━━━━━━━━━━━━━━━━━━━━━━━━\u001b[0m \u001b[32m233.6/233.6 kB\u001b[0m \u001b[31m28.3 MB/s\u001b[0m eta \u001b[36m0:00:00\u001b[0m\n",
            "\u001b[?25hCollecting requests<3,>=2.21.0\n",
            "  Downloading requests-2.31.0-py3-none-any.whl (62 kB)\n",
            "\u001b[2K     \u001b[90m━━━━━━━━━━━━━━━━━━━━━━━━━━━━━━━━━━━━━━━━\u001b[0m \u001b[32m62.6/62.6 kB\u001b[0m \u001b[31m9.2 MB/s\u001b[0m eta \u001b[36m0:00:00\u001b[0m\n",
            "\u001b[?25hCollecting grpcio>=1.24.3\n",
            "  Downloading grpcio-1.62.3-cp37-cp37m-manylinux_2_17_x86_64.manylinux2014_x86_64.whl (5.6 MB)\n",
            "\u001b[2K     \u001b[90m━━━━━━━━━━━━━━━━━━━━━━━━━━━━━━━━━━━━━━━━\u001b[0m \u001b[32m5.6/5.6 MB\u001b[0m \u001b[31m24.0 MB/s\u001b[0m eta \u001b[36m0:00:00\u001b[0m\n",
            "\u001b[?25hRequirement already satisfied: wheel>=0.26 in /usr/local/envs/retfound/lib/python3.7/site-packages (from tensorboard==2.6.0->-r requirement.txt (line 14)) (0.38.4)\n",
            "Collecting markdown>=2.6.8\n",
            "  Downloading Markdown-3.4.4-py3-none-any.whl (94 kB)\n",
            "\u001b[2K     \u001b[90m━━━━━━━━━━━━━━━━━━━━━━━━━━━━━━━━━━━━━━━━\u001b[0m \u001b[32m94.2/94.2 kB\u001b[0m \u001b[31m15.7 MB/s\u001b[0m eta \u001b[36m0:00:00\u001b[0m\n",
            "\u001b[?25hCollecting google-auth<2,>=1.6.3\n",
            "  Downloading google_auth-1.35.0-py2.py3-none-any.whl (152 kB)\n",
            "\u001b[2K     \u001b[90m━━━━━━━━━━━━━━━━━━━━━━━━━━━━━━━━━━━━━━\u001b[0m \u001b[32m152.9/152.9 kB\u001b[0m \u001b[31m22.0 MB/s\u001b[0m eta \u001b[36m0:00:00\u001b[0m\n",
            "\u001b[?25hCollecting google-auth-oauthlib<0.5,>=0.4.1\n",
            "  Downloading google_auth_oauthlib-0.4.6-py2.py3-none-any.whl (18 kB)\n",
            "Collecting absl-py>=0.4\n",
            "  Downloading absl_py-2.1.0-py3-none-any.whl (133 kB)\n",
            "\u001b[2K     \u001b[90m━━━━━━━━━━━━━━━━━━━━━━━━━━━━━━━━━━━━━━\u001b[0m \u001b[32m133.7/133.7 kB\u001b[0m \u001b[31m22.3 MB/s\u001b[0m eta \u001b[36m0:00:00\u001b[0m\n",
            "\u001b[?25hCollecting rsa<5,>=3.1.4\n",
            "  Downloading rsa-4.9.1-py3-none-any.whl (34 kB)\n",
            "Collecting cachetools<5.0,>=2.0.0\n",
            "  Downloading cachetools-4.2.4-py3-none-any.whl (10 kB)\n",
            "Collecting pyasn1-modules>=0.2.1\n",
            "  Downloading pyasn1_modules-0.3.0-py2.py3-none-any.whl (181 kB)\n",
            "\u001b[2K     \u001b[90m━━━━━━━━━━━━━━━━━━━━━━━━━━━━━━━━━━━━━━\u001b[0m \u001b[32m181.3/181.3 kB\u001b[0m \u001b[31m24.9 MB/s\u001b[0m eta \u001b[36m0:00:00\u001b[0m\n",
            "\u001b[?25hCollecting requests-oauthlib>=0.7.0\n",
            "  Downloading requests_oauthlib-2.0.0-py2.py3-none-any.whl (24 kB)\n",
            "Collecting imageio>=2.3.0\n",
            "  Downloading imageio-2.31.1-py3-none-any.whl (313 kB)\n",
            "\u001b[2K     \u001b[90m━━━━━━━━━━━━━━━━━━━━━━━━━━━━━━━━━━━━━━\u001b[0m \u001b[32m313.2/313.2 kB\u001b[0m \u001b[31m40.6 MB/s\u001b[0m eta \u001b[36m0:00:00\u001b[0m\n",
            "\u001b[?25h  Downloading imageio-2.31.0-py3-none-any.whl (313 kB)\n",
            "\u001b[2K     \u001b[90m━━━━━━━━━━━━━━━━━━━━━━━━━━━━━━━━━━━━━━\u001b[0m \u001b[32m313.2/313.2 kB\u001b[0m \u001b[31m38.2 MB/s\u001b[0m eta \u001b[36m0:00:00\u001b[0m\n",
            "\u001b[?25h  Downloading imageio-2.30.0-py3-none-any.whl (312 kB)\n",
            "\u001b[2K     \u001b[90m━━━━━━━━━━━━━━━━━━━━━━━━━━━━━━━━━━━━━━\u001b[0m \u001b[32m312.7/312.7 kB\u001b[0m \u001b[31m36.3 MB/s\u001b[0m eta \u001b[36m0:00:00\u001b[0m\n",
            "\u001b[?25h  Downloading imageio-2.29.0-py3-none-any.whl (3.4 MB)\n",
            "\u001b[2K     \u001b[90m━━━━━━━━━━━━━━━━━━━━━━━━━━━━━━━━━━━━━━━━\u001b[0m \u001b[32m3.4/3.4 MB\u001b[0m \u001b[31m104.8 MB/s\u001b[0m eta \u001b[36m0:00:00\u001b[0m\n",
            "\u001b[?25h  Downloading imageio-2.28.1-py3-none-any.whl (3.4 MB)\n",
            "\u001b[2K     \u001b[90m━━━━━━━━━━━━━━━━━━━━━━━━━━━━━━━━━━━━━━━━\u001b[0m \u001b[32m3.4/3.4 MB\u001b[0m \u001b[31m101.0 MB/s\u001b[0m eta \u001b[36m0:00:00\u001b[0m\n",
            "\u001b[?25h  Downloading imageio-2.28.0-py3-none-any.whl (3.4 MB)\n",
            "\u001b[2K     \u001b[90m━━━━━━━━━━━━━━━━━━━━━━━━━━━━━━━━━━━━━━━━\u001b[0m \u001b[32m3.4/3.4 MB\u001b[0m \u001b[31m105.9 MB/s\u001b[0m eta \u001b[36m0:00:00\u001b[0m\n",
            "\u001b[?25h  Downloading imageio-2.27.0-py3-none-any.whl (3.4 MB)\n",
            "\u001b[2K     \u001b[90m━━━━━━━━━━━━━━━━━━━━━━━━━━━━━━━━━━━━━━━━\u001b[0m \u001b[32m3.4/3.4 MB\u001b[0m \u001b[31m104.4 MB/s\u001b[0m eta \u001b[36m0:00:00\u001b[0m\n",
            "\u001b[?25h  Downloading imageio-2.26.1-py3-none-any.whl (3.4 MB)\n",
            "\u001b[2K     \u001b[90m━━━━━━━━━━━━━━━━━━━━━━━━━━━━━━━━━━━━━━━━\u001b[0m \u001b[32m3.4/3.4 MB\u001b[0m \u001b[31m20.5 MB/s\u001b[0m eta \u001b[36m0:00:00\u001b[0m\n",
            "\u001b[?25h  Downloading imageio-2.26.0-py3-none-any.whl (3.4 MB)\n",
            "\u001b[2K     \u001b[90m━━━━━━━━━━━━━━━━━━━━━━━━━━━━━━━━━━━━━━━━\u001b[0m \u001b[32m3.4/3.4 MB\u001b[0m \u001b[31m105.2 MB/s\u001b[0m eta \u001b[36m0:00:00\u001b[0m\n",
            "\u001b[?25h  Downloading imageio-2.25.1-py3-none-any.whl (3.4 MB)\n",
            "\u001b[2K     \u001b[90m━━━━━━━━━━━━━━━━━━━━━━━━━━━━━━━━━━━━━━━━\u001b[0m \u001b[32m3.4/3.4 MB\u001b[0m \u001b[31m102.1 MB/s\u001b[0m eta \u001b[36m0:00:00\u001b[0m\n",
            "\u001b[?25h  Downloading imageio-2.25.0-py3-none-any.whl (3.4 MB)\n",
            "\u001b[2K     \u001b[90m━━━━━━━━━━━━━━━━━━━━━━━━━━━━━━━━━━━━━━━━\u001b[0m \u001b[32m3.4/3.4 MB\u001b[0m \u001b[31m93.9 MB/s\u001b[0m eta \u001b[36m0:00:00\u001b[0m\n",
            "\u001b[?25h  Downloading imageio-2.24.0-py3-none-any.whl (3.4 MB)\n",
            "\u001b[2K     \u001b[90m━━━━━━━━━━━━━━━━━━━━━━━━━━━━━━━━━━━━━━━━\u001b[0m \u001b[32m3.4/3.4 MB\u001b[0m \u001b[31m93.1 MB/s\u001b[0m eta \u001b[36m0:00:00\u001b[0m\n",
            "\u001b[?25h  Downloading imageio-2.23.0-py3-none-any.whl (3.4 MB)\n",
            "\u001b[2K     \u001b[90m━━━━━━━━━━━━━━━━━━━━━━━━━━━━━━━━━━━━━━━━\u001b[0m \u001b[32m3.4/3.4 MB\u001b[0m \u001b[31m103.2 MB/s\u001b[0m eta \u001b[36m0:00:00\u001b[0m\n",
            "\u001b[?25h  Downloading imageio-2.22.4-py3-none-any.whl (3.4 MB)\n",
            "\u001b[2K     \u001b[90m━━━━━━━━━━━━━━━━━━━━━━━━━━━━━━━━━━━━━━━━\u001b[0m \u001b[32m3.4/3.4 MB\u001b[0m \u001b[31m102.5 MB/s\u001b[0m eta \u001b[36m0:00:00\u001b[0m\n",
            "\u001b[?25h  Downloading imageio-2.22.3-py3-none-any.whl (3.4 MB)\n",
            "\u001b[2K     \u001b[90m━━━━━━━━━━━━━━━━━━━━━━━━━━━━━━━━━━━━━━━━\u001b[0m \u001b[32m3.4/3.4 MB\u001b[0m \u001b[31m99.5 MB/s\u001b[0m eta \u001b[36m0:00:00\u001b[0m\n",
            "\u001b[?25h  Downloading imageio-2.22.2-py3-none-any.whl (3.4 MB)\n",
            "\u001b[2K     \u001b[90m━━━━━━━━━━━━━━━━━━━━━━━━━━━━━━━━━━━━━━━━\u001b[0m \u001b[32m3.4/3.4 MB\u001b[0m \u001b[31m66.4 MB/s\u001b[0m eta \u001b[36m0:00:00\u001b[0m\n",
            "\u001b[?25h  Downloading imageio-2.22.1-py3-none-any.whl (3.4 MB)\n",
            "\u001b[2K     \u001b[90m━━━━━━━━━━━━━━━━━━━━━━━━━━━━━━━━━━━━━━━━\u001b[0m \u001b[32m3.4/3.4 MB\u001b[0m \u001b[31m18.6 MB/s\u001b[0m eta \u001b[36m0:00:00\u001b[0m\n",
            "\u001b[?25h  Downloading imageio-2.22.0-py3-none-any.whl (3.4 MB)\n",
            "\u001b[2K     \u001b[90m━━━━━━━━━━━━━━━━━━━━━━━━━━━━━━━━━━━━━━━━\u001b[0m \u001b[32m3.4/3.4 MB\u001b[0m \u001b[31m83.9 MB/s\u001b[0m eta \u001b[36m0:00:00\u001b[0m\n",
            "\u001b[?25h  Downloading imageio-2.21.3-py3-none-any.whl (3.4 MB)\n",
            "\u001b[2K     \u001b[90m━━━━━━━━━━━━━━━━━━━━━━━━━━━━━━━━━━━━━━━━\u001b[0m \u001b[32m3.4/3.4 MB\u001b[0m \u001b[31m103.3 MB/s\u001b[0m eta \u001b[36m0:00:00\u001b[0m\n",
            "\u001b[?25h  Downloading imageio-2.21.2-py3-none-any.whl (3.4 MB)\n",
            "\u001b[2K     \u001b[90m━━━━━━━━━━━━━━━━━━━━━━━━━━━━━━━━━━━━━━━━\u001b[0m \u001b[32m3.4/3.4 MB\u001b[0m \u001b[31m88.4 MB/s\u001b[0m eta \u001b[36m0:00:00\u001b[0m\n",
            "\u001b[?25h  Downloading imageio-2.21.1-py3-none-any.whl (3.4 MB)\n",
            "\u001b[2K     \u001b[90m━━━━━━━━━━━━━━━━━━━━━━━━━━━━━━━━━━━━━━━━\u001b[0m \u001b[32m3.4/3.4 MB\u001b[0m \u001b[31m103.8 MB/s\u001b[0m eta \u001b[36m0:00:00\u001b[0m\n",
            "\u001b[?25h  Downloading imageio-2.21.0-py3-none-any.whl (3.4 MB)\n",
            "\u001b[2K     \u001b[90m━━━━━━━━━━━━━━━━━━━━━━━━━━━━━━━━━━━━━━━━\u001b[0m \u001b[32m3.4/3.4 MB\u001b[0m \u001b[31m91.2 MB/s\u001b[0m eta \u001b[36m0:00:00\u001b[0m\n",
            "\u001b[?25h  Downloading imageio-2.20.0-py3-none-any.whl (3.4 MB)\n",
            "\u001b[2K     \u001b[90m━━━━━━━━━━━━━━━━━━━━━━━━━━━━━━━━━━━━━━━━\u001b[0m \u001b[32m3.4/3.4 MB\u001b[0m \u001b[31m101.4 MB/s\u001b[0m eta \u001b[36m0:00:00\u001b[0m\n",
            "\u001b[?25h  Downloading imageio-2.19.5-py3-none-any.whl (3.4 MB)\n",
            "\u001b[2K     \u001b[90m━━━━━━━━━━━━━━━━━━━━━━━━━━━━━━━━━━━━━━━━\u001b[0m \u001b[32m3.4/3.4 MB\u001b[0m \u001b[31m93.0 MB/s\u001b[0m eta \u001b[36m0:00:00\u001b[0m\n",
            "\u001b[?25h  Downloading imageio-2.19.3-py3-none-any.whl (3.4 MB)\n",
            "\u001b[2K     \u001b[90m━━━━━━━━━━━━━━━━━━━━━━━━━━━━━━━━━━━━━━━━\u001b[0m \u001b[32m3.4/3.4 MB\u001b[0m \u001b[31m104.5 MB/s\u001b[0m eta \u001b[36m0:00:00\u001b[0m\n",
            "\u001b[?25h  Downloading imageio-2.19.2-py3-none-any.whl (3.4 MB)\n",
            "\u001b[2K     \u001b[90m━━━━━━━━━━━━━━━━━━━━━━━━━━━━━━━━━━━━━━━━\u001b[0m \u001b[32m3.4/3.4 MB\u001b[0m \u001b[31m92.5 MB/s\u001b[0m eta \u001b[36m0:00:00\u001b[0m\n",
            "\u001b[?25h  Downloading imageio-2.19.1-py3-none-any.whl (3.4 MB)\n",
            "\u001b[2K     \u001b[90m━━━━━━━━━━━━━━━━━━━━━━━━━━━━━━━━━━━━━━━━\u001b[0m \u001b[32m3.4/3.4 MB\u001b[0m \u001b[31m85.3 MB/s\u001b[0m eta \u001b[36m0:00:00\u001b[0m\n",
            "\u001b[?25h  Downloading imageio-2.19.0-py3-none-any.whl (3.4 MB)\n",
            "\u001b[2K     \u001b[90m━━━━━━━━━━━━━━━━━━━━━━━━━━━━━━━━━━━━━━━━\u001b[0m \u001b[32m3.4/3.4 MB\u001b[0m \u001b[31m93.5 MB/s\u001b[0m eta \u001b[36m0:00:00\u001b[0m\n",
            "\u001b[?25h  Downloading imageio-2.18.0-py3-none-any.whl (3.4 MB)\n",
            "\u001b[2K     \u001b[90m━━━━━━━━━━━━━━━━━━━━━━━━━━━━━━━━━━━━━━━━\u001b[0m \u001b[32m3.4/3.4 MB\u001b[0m \u001b[31m70.9 MB/s\u001b[0m eta \u001b[36m0:00:00\u001b[0m\n",
            "\u001b[?25h  Downloading imageio-2.17.0-py3-none-any.whl (3.4 MB)\n",
            "\u001b[2K     \u001b[90m━━━━━━━━━━━━━━━━━━━━━━━━━━━━━━━━━━━━━━━━\u001b[0m \u001b[32m3.4/3.4 MB\u001b[0m \u001b[31m100.0 MB/s\u001b[0m eta \u001b[36m0:00:00\u001b[0m\n",
            "\u001b[?25h  Downloading imageio-2.16.2-py3-none-any.whl (3.3 MB)\n",
            "\u001b[2K     \u001b[90m━━━━━━━━━━━━━━━━━━━━━━━━━━━━━━━━━━━━━━━━\u001b[0m \u001b[32m3.3/3.3 MB\u001b[0m \u001b[31m102.6 MB/s\u001b[0m eta \u001b[36m0:00:00\u001b[0m\n",
            "\u001b[?25h  Downloading imageio-2.16.1-py3-none-any.whl (3.3 MB)\n",
            "\u001b[2K     \u001b[90m━━━━━━━━━━━━━━━━━━━━━━━━━━━━━━━━━━━━━━━━\u001b[0m \u001b[32m3.3/3.3 MB\u001b[0m \u001b[31m102.3 MB/s\u001b[0m eta \u001b[36m0:00:00\u001b[0m\n",
            "\u001b[?25h  Downloading imageio-2.15.0-py3-none-any.whl (3.3 MB)\n",
            "\u001b[2K     \u001b[90m━━━━━━━━━━━━━━━━━━━━━━━━━━━━━━━━━━━━━━━━\u001b[0m \u001b[32m3.3/3.3 MB\u001b[0m \u001b[31m106.6 MB/s\u001b[0m eta \u001b[36m0:00:00\u001b[0m\n",
            "\u001b[?25h  Downloading imageio-2.14.1-py3-none-any.whl (3.3 MB)\n",
            "\u001b[2K     \u001b[90m━━━━━━━━━━━━━━━━━━━━━━━━━━━━━━━━━━━━━━━━\u001b[0m \u001b[32m3.3/3.3 MB\u001b[0m \u001b[31m105.2 MB/s\u001b[0m eta \u001b[36m0:00:00\u001b[0m\n",
            "\u001b[?25h  Downloading imageio-2.14.0-py3-none-any.whl (3.3 MB)\n",
            "\u001b[2K     \u001b[90m━━━━━━━━━━━━━━━━━━━━━━━━━━━━━━━━━━━━━━━━\u001b[0m \u001b[32m3.3/3.3 MB\u001b[0m \u001b[31m85.2 MB/s\u001b[0m eta \u001b[36m0:00:00\u001b[0m\n",
            "\u001b[?25h  Downloading imageio-2.13.5-py3-none-any.whl (3.3 MB)\n",
            "\u001b[2K     \u001b[90m━━━━━━━━━━━━━━━━━━━━━━━━━━━━━━━━━━━━━━━━\u001b[0m \u001b[32m3.3/3.3 MB\u001b[0m \u001b[31m90.3 MB/s\u001b[0m eta \u001b[36m0:00:00\u001b[0m\n",
            "\u001b[?25h  Downloading imageio-2.13.4-py3-none-any.whl (3.3 MB)\n",
            "\u001b[2K     \u001b[90m━━━━━━━━━━━━━━━━━━━━━━━━━━━━━━━━━━━━━━━━\u001b[0m \u001b[32m3.3/3.3 MB\u001b[0m \u001b[31m19.7 MB/s\u001b[0m eta \u001b[36m0:00:00\u001b[0m\n",
            "\u001b[?25h  Downloading imageio-2.13.3-py3-none-any.whl (3.3 MB)\n",
            "\u001b[2K     \u001b[90m━━━━━━━━━━━━━━━━━━━━━━━━━━━━━━━━━━━━━━━━\u001b[0m \u001b[32m3.3/3.3 MB\u001b[0m \u001b[31m102.2 MB/s\u001b[0m eta \u001b[36m0:00:00\u001b[0m\n",
            "\u001b[?25h  Downloading imageio-2.13.2-py3-none-any.whl (3.3 MB)\n",
            "\u001b[2K     \u001b[90m━━━━━━━━━━━━━━━━━━━━━━━━━━━━━━━━━━━━━━━━\u001b[0m \u001b[32m3.3/3.3 MB\u001b[0m \u001b[31m100.9 MB/s\u001b[0m eta \u001b[36m0:00:00\u001b[0m\n",
            "\u001b[?25h  Downloading imageio-2.13.1-py3-none-any.whl (3.3 MB)\n",
            "\u001b[2K     \u001b[90m━━━━━━━━━━━━━━━━━━━━━━━━━━━━━━━━━━━━━━━━\u001b[0m \u001b[32m3.3/3.3 MB\u001b[0m \u001b[31m92.0 MB/s\u001b[0m eta \u001b[36m0:00:00\u001b[0m\n",
            "\u001b[?25h  Downloading imageio-2.13.0-py3-none-any.whl (3.3 MB)\n",
            "\u001b[2K     \u001b[90m━━━━━━━━━━━━━━━━━━━━━━━━━━━━━━━━━━━━━━━━\u001b[0m \u001b[32m3.3/3.3 MB\u001b[0m \u001b[31m108.6 MB/s\u001b[0m eta \u001b[36m0:00:00\u001b[0m\n",
            "\u001b[?25h  Downloading imageio-2.12.0-py3-none-any.whl (3.3 MB)\n",
            "\u001b[2K     \u001b[90m━━━━━━━━━━━━━━━━━━━━━━━━━━━━━━━━━━━━━━━━\u001b[0m \u001b[32m3.3/3.3 MB\u001b[0m \u001b[31m103.3 MB/s\u001b[0m eta \u001b[36m0:00:00\u001b[0m\n",
            "\u001b[?25h  Downloading imageio-2.11.1-py3-none-any.whl (3.3 MB)\n",
            "\u001b[2K     \u001b[90m━━━━━━━━━━━━━━━━━━━━━━━━━━━━━━━━━━━━━━━━\u001b[0m \u001b[32m3.3/3.3 MB\u001b[0m \u001b[31m102.2 MB/s\u001b[0m eta \u001b[36m0:00:00\u001b[0m\n",
            "\u001b[?25h  Downloading imageio-2.11.0-py3-none-any.whl (3.3 MB)\n",
            "\u001b[2K     \u001b[90m━━━━━━━━━━━━━━━━━━━━━━━━━━━━━━━━━━━━━━━━\u001b[0m \u001b[32m3.3/3.3 MB\u001b[0m \u001b[31m91.2 MB/s\u001b[0m eta \u001b[36m0:00:00\u001b[0m\n",
            "\u001b[?25h  Downloading imageio-2.10.5-py3-none-any.whl (3.3 MB)\n",
            "\u001b[2K     \u001b[90m━━━━━━━━━━━━━━━━━━━━━━━━━━━━━━━━━━━━━━━━\u001b[0m \u001b[32m3.3/3.3 MB\u001b[0m \u001b[31m100.7 MB/s\u001b[0m eta \u001b[36m0:00:00\u001b[0m\n",
            "\u001b[?25h  Downloading imageio-2.10.4-py3-none-any.whl (3.3 MB)\n",
            "\u001b[2K     \u001b[90m━━━━━━━━━━━━━━━━━━━━━━━━━━━━━━━━━━━━━━━━\u001b[0m \u001b[32m3.3/3.3 MB\u001b[0m \u001b[31m92.0 MB/s\u001b[0m eta \u001b[36m0:00:00\u001b[0m\n",
            "\u001b[?25h  Downloading imageio-2.10.3-py3-none-any.whl (3.3 MB)\n",
            "\u001b[2K     \u001b[90m━━━━━━━━━━━━━━━━━━━━━━━━━━━━━━━━━━━━━━━━\u001b[0m \u001b[32m3.3/3.3 MB\u001b[0m \u001b[31m100.4 MB/s\u001b[0m eta \u001b[36m0:00:00\u001b[0m\n",
            "\u001b[?25h  Downloading imageio-2.10.2-py3-none-any.whl (3.3 MB)\n",
            "\u001b[2K     \u001b[90m━━━━━━━━━━━━━━━━━━━━━━━━━━━━━━━━━━━━━━━━\u001b[0m \u001b[32m3.3/3.3 MB\u001b[0m \u001b[31m91.8 MB/s\u001b[0m eta \u001b[36m0:00:00\u001b[0m\n",
            "\u001b[?25h  Downloading imageio-2.10.1-py3-none-any.whl (3.3 MB)\n",
            "\u001b[2K     \u001b[90m━━━━━━━━━━━━━━━━━━━━━━━━━━━━━━━━━━━━━━━━\u001b[0m \u001b[32m3.3/3.3 MB\u001b[0m \u001b[31m100.7 MB/s\u001b[0m eta \u001b[36m0:00:00\u001b[0m\n",
            "\u001b[?25h  Downloading imageio-2.9.0-py3-none-any.whl (3.3 MB)\n",
            "\u001b[2K     \u001b[90m━━━━━━━━━━━━━━━━━━━━━━━━━━━━━━━━━━━━━━━━\u001b[0m \u001b[32m3.3/3.3 MB\u001b[0m \u001b[31m102.2 MB/s\u001b[0m eta \u001b[36m0:00:00\u001b[0m\n",
            "\u001b[?25hCollecting importlib-metadata>=4.4\n",
            "  Downloading importlib_metadata-6.7.0-py3-none-any.whl (22 kB)\n",
            "Collecting cycler>=0.10\n",
            "  Downloading cycler-0.11.0-py3-none-any.whl (6.4 kB)\n",
            "Collecting kiwisolver>=1.0.1\n",
            "  Downloading kiwisolver-1.4.5-cp37-cp37m-manylinux_2_5_x86_64.manylinux1_x86_64.whl (1.1 MB)\n",
            "\u001b[2K     \u001b[90m━━━━━━━━━━━━━━━━━━━━━━━━━━━━━━━━━━━━━━━━\u001b[0m \u001b[32m1.1/1.1 MB\u001b[0m \u001b[31m77.3 MB/s\u001b[0m eta \u001b[36m0:00:00\u001b[0m\n",
            "\u001b[?25hCollecting pyparsing>=2.2.1\n",
            "  Downloading pyparsing-3.1.4-py3-none-any.whl (104 kB)\n",
            "\u001b[2K     \u001b[90m━━━━━━━━━━━━━━━━━━━━━━━━━━━━━━━━━━━━━━\u001b[0m \u001b[32m104.1/104.1 kB\u001b[0m \u001b[31m16.2 MB/s\u001b[0m eta \u001b[36m0:00:00\u001b[0m\n",
            "\u001b[?25hCollecting fonttools>=4.22.0\n",
            "  Downloading fonttools-4.38.0-py3-none-any.whl (965 kB)\n",
            "\u001b[2K     \u001b[90m━━━━━━━━━━━━━━━━━━━━━━━━━━━━━━━━━━━━━━\u001b[0m \u001b[32m965.4/965.4 kB\u001b[0m \u001b[31m64.5 MB/s\u001b[0m eta \u001b[36m0:00:00\u001b[0m\n",
            "\u001b[?25hRequirement already satisfied: packaging>=20.0 in /usr/local/envs/retfound/lib/python3.7/site-packages (from matplotlib!=3.0.0,>=2.0.0->scikit-image==0.17.2->-r requirement.txt (line 11)) (24.0)\n",
            "Collecting networkx>=2.0\n",
            "  Downloading https://download.pytorch.org/whl/networkx-3.0-py3-none-any.whl (2.0 MB)\n",
            "\u001b[2K     \u001b[90m━━━━━━━━━━━━━━━━━━━━━━━━━━━━━━━━━━━━━━━━\u001b[0m \u001b[32m2.0/2.0 MB\u001b[0m \u001b[31m89.1 MB/s\u001b[0m eta \u001b[36m0:00:00\u001b[0m\n",
            "\u001b[?25h  Downloading networkx-2.6.3-py3-none-any.whl (1.9 MB)\n",
            "\u001b[2K     \u001b[90m━━━━━━━━━━━━━━━━━━━━━━━━━━━━━━━━━━━━━━━━\u001b[0m \u001b[32m1.9/1.9 MB\u001b[0m \u001b[31m90.2 MB/s\u001b[0m eta \u001b[36m0:00:00\u001b[0m\n",
            "\u001b[?25hCollecting charset-normalizer<4,>=2\n",
            "  Downloading charset_normalizer-3.4.2-cp37-cp37m-manylinux_2_17_x86_64.manylinux2014_x86_64.whl (141 kB)\n",
            "\u001b[2K     \u001b[90m━━━━━━━━━━━━━━━━━━━━━━━━━━━━━━━━━━━━━━\u001b[0m \u001b[32m141.3/141.3 kB\u001b[0m \u001b[31m20.6 MB/s\u001b[0m eta \u001b[36m0:00:00\u001b[0m\n",
            "\u001b[?25hRequirement already satisfied: certifi>=2017.4.17 in /usr/local/envs/retfound/lib/python3.7/site-packages (from requests<3,>=2.21.0->tensorboard==2.6.0->-r requirement.txt (line 14)) (2025.4.26)\n",
            "Collecting urllib3<3,>=1.21.1\n",
            "  Downloading urllib3-2.0.7-py3-none-any.whl (124 kB)\n",
            "\u001b[2K     \u001b[90m━━━━━━━━━━━━━━━━━━━━━━━━━━━━━━━━━━━━━━\u001b[0m \u001b[32m124.2/124.2 kB\u001b[0m \u001b[31m18.6 MB/s\u001b[0m eta \u001b[36m0:00:00\u001b[0m\n",
            "\u001b[?25hCollecting idna<4,>=2.5\n",
            "  Downloading idna-3.10-py3-none-any.whl (70 kB)\n",
            "\u001b[2K     \u001b[90m━━━━━━━━━━━━━━━━━━━━━━━━━━━━━━━━━━━━━━━━\u001b[0m \u001b[32m70.4/70.4 kB\u001b[0m \u001b[31m12.0 MB/s\u001b[0m eta \u001b[36m0:00:00\u001b[0m\n",
            "\u001b[?25hCollecting MarkupSafe>=2.1.1\n",
            "  Downloading MarkupSafe-2.1.5-cp37-cp37m-manylinux_2_17_x86_64.manylinux2014_x86_64.whl (25 kB)\n",
            "Collecting typing-extensions\n",
            "  Downloading https://download.pytorch.org/whl/typing_extensions-4.8.0-py3-none-any.whl (31 kB)\n",
            "  Downloading typing_extensions-4.7.1-py3-none-any.whl (33 kB)\n",
            "Collecting zipp>=0.5\n",
            "  Downloading zipp-3.15.0-py3-none-any.whl (6.8 kB)\n",
            "Collecting pyasn1<0.6.0,>=0.4.6\n",
            "  Downloading pyasn1-0.5.1-py2.py3-none-any.whl (84 kB)\n",
            "\u001b[2K     \u001b[90m━━━━━━━━━━━━━━━━━━━━━━━━━━━━━━━━━━━━━━━━\u001b[0m \u001b[32m84.9/84.9 kB\u001b[0m \u001b[31m13.7 MB/s\u001b[0m eta \u001b[36m0:00:00\u001b[0m\n",
            "\u001b[?25hCollecting oauthlib>=3.0.0\n",
            "  Downloading oauthlib-3.2.2-py3-none-any.whl (151 kB)\n",
            "\u001b[2K     \u001b[90m━━━━━━━━━━━━━━━━━━━━━━━━━━━━━━━━━━━━━━\u001b[0m \u001b[32m151.7/151.7 kB\u001b[0m \u001b[31m22.9 MB/s\u001b[0m eta \u001b[36m0:00:00\u001b[0m\n",
            "\u001b[?25hInstalling collected packages: tensorboard-plugin-wit, pytz, zipp, urllib3, typing-extensions, tqdm, threadpoolctl, tensorboard-data-server, pyparsing, pydicom, pyasn1, protobuf, Pillow, oauthlib, numpy, networkx, MarkupSafe, joblib, idna, grpcio, fonttools, cycler, charset-normalizer, cachetools, art, absl-py, werkzeug, torch, tifffile, scipy, rsa, requests, PyWavelets, pycm, pyasn1-modules, pandas, opencv-python, kiwisolver, importlib-metadata, imageio, torchvision, torchaudio, scikit-learn, requests-oauthlib, matplotlib, markdown, google-auth, timm, scikit-image, google-auth-oauthlib, tensorboard\n",
            "Successfully installed MarkupSafe-2.1.5 Pillow-8.3.1 PyWavelets-1.3.0 absl-py-2.1.0 art-6.5 cachetools-4.2.4 charset-normalizer-3.4.2 cycler-0.11.0 fonttools-4.38.0 google-auth-1.35.0 google-auth-oauthlib-0.4.6 grpcio-1.62.3 idna-3.10 imageio-2.9.0 importlib-metadata-6.7.0 joblib-1.3.2 kiwisolver-1.4.5 markdown-3.4.4 matplotlib-3.5.3 networkx-2.6.3 numpy-1.21.6 oauthlib-3.2.2 opencv-python-4.5.3.56 pandas-0.25.3 protobuf-3.17.3 pyasn1-0.5.1 pyasn1-modules-0.3.0 pycm-3.2 pydicom-2.3.0 pyparsing-3.1.4 pytz-2025.2 requests-2.31.0 requests-oauthlib-2.0.0 rsa-4.9.1 scikit-image-0.17.2 scikit-learn-0.24.2 scipy-1.5.4 tensorboard-2.6.0 tensorboard-data-server-0.6.1 tensorboard-plugin-wit-1.8.0 threadpoolctl-3.1.0 tifffile-2021.11.2 timm-0.3.2 torch-1.8.1+cu111 torchaudio-0.8.1 torchvision-0.9.1+cu111 tqdm-4.62.1 typing-extensions-4.7.1 urllib3-2.0.7 werkzeug-2.2.3 zipp-3.15.0\n"
          ]
        },
        {
          "data": {
            "text/plain": []
          },
          "execution_count": 3,
          "metadata": {},
          "output_type": "execute_result"
        }
      ],
      "source": [
        "#Code from https://github.com/rmaphoh/RETFound_MAE\n",
        "%%shell\n",
        "git clone https://github.com/Reyhaneesmailizadeh/RETFound-Edited/\n",
        "source activate retfound\n",
        "cd RETFound-Edited/\n",
        "pip install --ignore-installed certifi\n",
        "pip install -r requirement.txt"
      ]
    },
    {
      "cell_type": "markdown",
      "metadata": {
        "id": "gukAzzrP4WkZ"
      },
      "source": [
        "# Download RETFound SSL weights"
      ]
    },
    {
      "cell_type": "code",
      "execution_count": null,
      "metadata": {
        "colab": {
          "base_uri": "https://localhost:8080/"
        },
        "id": "F3ucbe-B4aoA",
        "outputId": "b6035fc5-0afe-429a-fdd1-8c58ed4a85ad"
      },
      "outputs": [
        {
          "name": "stdout",
          "output_type": "stream",
          "text": [
            "/usr/local/lib/python3.10/dist-packages/gdown/__main__.py:132: FutureWarning: Option `--id` was deprecated in version 4.3.1 and will be removed in 5.0. You don't need to pass it anymore to use a file ID.\n",
            "  warnings.warn(\n",
            "Downloading...\n",
            "From (original): https://drive.google.com/uc?id=1l62zbWUFTlp214SvK6eMwPQZAzcwoeBE\n",
            "From (redirected): https://drive.google.com/uc?id=1l62zbWUFTlp214SvK6eMwPQZAzcwoeBE&confirm=t&uuid=18c8f0c0-ed09-4d49-8f29-646552dfebfe\n",
            "To: /content/RETFound_cfp_weights.pth\n",
            "100% 3.95G/3.95G [00:48<00:00, 81.6MB/s]\n"
          ]
        }
      ],
      "source": [
        "#Code from https://github.com/rmaphoh/RETFound_MAE\n",
        "!gdown --id 1l62zbWUFTlp214SvK6eMwPQZAzcwoeBE"
      ]
    },
    {
      "cell_type": "code",
      "execution_count": null,
      "metadata": {
        "colab": {
          "base_uri": "https://localhost:8080/"
        },
        "id": "8rsWwoAF4eln",
        "outputId": "6d044ec0-6493-4d7f-d1b8-d959bedff745"
      },
      "outputs": [
        {
          "data": {
            "text/plain": []
          },
          "execution_count": 6,
          "metadata": {},
          "output_type": "execute_result"
        }
      ],
      "source": [
        "#Code from https://github.com/rmaphoh/RETFound_MAE\n",
        "%%shell\n",
        "mv RETFound_cfp_weights.pth RETFound-Edited/"
      ]
    },
    {
      "cell_type": "markdown",
      "metadata": {
        "id": "jLE36GVA4she"
      },
      "source": [
        "# ThickFound: Fine-tune the RetFound-Fundus on the 1469 unlabeled thickness maps."
      ]
    },
    {
      "cell_type": "code",
      "source": [
        "#Code from https://github.com/rmaphoh/RETFound_MAE\n",
        "%%shell\n",
        "cd RETFound-Edited\n",
        "eval \"$(conda shell.bash hook)\" # copy conda command to shell\n",
        "source activate retfound\n",
        "python -m torch.distributed.launch --nproc_per_node=1 --master_port=48798 main_pretrain.py \\\n",
        "    --batch_size 4 \\\n",
        "    --world_size 1 \\\n",
        "    --epochs 50 \\\n",
        "    --blr 5e-3 \\\n",
        "    --weight_decay 0.05 \\\n",
        "    --input_size 224 \\\n",
        "    --output_dir /content/drive/MyDrive/checkpoints/ \\\n",
        "    --finetune ./RETFound_cfp_weights.pth \\\n",
        "    --log_dir /content/drive/MyDrive/logs/ \\\n",
        "    --data_path /content/drive/MyDrive/pretrain_data/"
      ],
      "metadata": {
        "id": "0tm-vZ4rnYQZ"
      },
      "execution_count": null,
      "outputs": []
    },
    {
      "cell_type": "markdown",
      "source": [
        "# SLOFound: Fine-tune the RetFound-Fundus on the 203 unlabeled SLO images."
      ],
      "metadata": {
        "id": "86QmwSf3orfg"
      }
    },
    {
      "cell_type": "code",
      "source": [
        "#Code from https://github.com/rmaphoh/RETFound_MAE\n",
        "%%shell\n",
        "cd RETFound-Edited\n",
        "eval \"$(conda shell.bash hook)\" # copy conda command to shell\n",
        "source activate retfound\n",
        "python -m torch.distributed.launch --nproc_per_node=1 --master_port=48798 main_pretrain.py \\\n",
        "    --batch_size 4 \\\n",
        "    --world_size 1 \\\n",
        "    --epochs 50 \\\n",
        "    --blr 5e-3 \\\n",
        "    --weight_decay 0.05 \\\n",
        "    --input_size 224 \\\n",
        "    --output_dir /content/drive/MyDrive/checkpoints/ \\\n",
        "    --finetune ./RETFound_cfp_weights.pth \\\n",
        "    --log_dir /content/drive/MyDrive/logs/ \\\n",
        "    --data_path /content/drive/MyDrive/slo-pretraining/"
      ],
      "metadata": {
        "id": "D77mxQCko0In"
      },
      "execution_count": null,
      "outputs": []
    },
    {
      "cell_type": "markdown",
      "source": [
        "# You want to finetune ThickFound or SLOFound on your own unlabeled data?"
      ],
      "metadata": {
        "id": "JSewZky4pFAC"
      }
    },
    {
      "cell_type": "markdown",
      "source": [
        "Add ThickFound to your drive: https://drive.google.com/file/d/1aMaTW5bp4rEtd5BDYkauOQ0bAbgno0Iw/view?usp=sharing"
      ],
      "metadata": {
        "id": "wam4MpN4qJUr"
      }
    },
    {
      "cell_type": "code",
      "source": [
        "#Code from https://github.com/rmaphoh/RETFound_MAE\n",
        "%%shell\n",
        "cd RETFound-Edited\n",
        "eval \"$(conda shell.bash hook)\" # copy conda command to shell\n",
        "source activate retfound\n",
        "python -m torch.distributed.launch --nproc_per_node=1 --master_port=48798 main_pretrain.py \\\n",
        "    --batch_size 4 \\\n",
        "    --world_size 1 \\\n",
        "    --epochs 50 \\\n",
        "    --blr 5e-3 \\\n",
        "    --weight_decay 0.05 \\\n",
        "    --input_size 224 \\\n",
        "    --output_dir /content/drive/MyDrive/checkpoints/ \\\n",
        "    --finetune /content/drive/MyDrive/ThickFound.pth \\\n",
        "    --log_dir /content/drive/MyDrive/logs/ \\\n",
        "    --data_path /content/drive/MyDrive/path-to-your-data/"
      ],
      "metadata": {
        "id": "R08NKMrwpNeh"
      },
      "execution_count": null,
      "outputs": []
    },
    {
      "cell_type": "markdown",
      "source": [
        "Add SLOFound to your drive: https://drive.google.com/file/d/1-MCvsW4NWEAMoXNe5VAJrGat6z6GlUkV/view?usp=sharing"
      ],
      "metadata": {
        "id": "yXfFKvT2qTtC"
      }
    },
    {
      "cell_type": "code",
      "source": [
        "#Code from https://github.com/rmaphoh/RETFound_MAE\n",
        "%%shell\n",
        "cd RETFound-Edited\n",
        "eval \"$(conda shell.bash hook)\" # copy conda command to shell\n",
        "source activate retfound\n",
        "python -m torch.distributed.launch --nproc_per_node=1 --master_port=48798 main_pretrain.py \\\n",
        "    --batch_size 4 \\\n",
        "    --world_size 1 \\\n",
        "    --epochs 50 \\\n",
        "    --blr 5e-3 \\\n",
        "    --weight_decay 0.05 \\\n",
        "    --input_size 224 \\\n",
        "    --output_dir /content/drive/MyDrive/checkpoints/ \\\n",
        "    --finetune /content/drive/MyDrive/SLOFound.pth \\\n",
        "    --log_dir /content/drive/MyDrive/logs/ \\\n",
        "    --data_path /content/drive/MyDrive/path-to-your-data/"
      ],
      "metadata": {
        "id": "UE0ieyJ0pqnF"
      },
      "execution_count": null,
      "outputs": []
    },
    {
      "cell_type": "markdown",
      "source": [
        "# Proposed Model: Unfrozen MultiModal Model using ThickFound and SLOFound. The layer decay rate was set to 0.6"
      ],
      "metadata": {
        "id": "vp9MesgjsLqI"
      }
    },
    {
      "cell_type": "code",
      "execution_count": null,
      "metadata": {
        "colab": {
          "base_uri": "https://localhost:8080/"
        },
        "id": "r_pCZapfQ-E6",
        "outputId": "03089cad-4a0e-4959-d3e4-3559fd541201"
      },
      "outputs": [
        {
          "name": "stdout",
          "output_type": "stream",
          "text": [
            "Writing models_vit.py\n"
          ]
        }
      ],
      "source": [
        "#Code from https://github.com/rmaphoh/RETFound_MAE\n",
        "# Copyright (c) Meta Platforms, Inc. and affiliates.\n",
        "# All rights reserved.\n",
        "# Partly revised by YZ @UCL&Moorfields\n",
        "# -------------------------------------------------------\n",
        "%%writefile models_vit.py\n",
        "from functools import partial\n",
        "import torch\n",
        "import torch.nn as nn\n",
        "import timm.models.vision_transformer\n",
        "\n",
        "\n",
        "class VisionTransformer(timm.models.vision_transformer.VisionTransformer):\n",
        "    \"\"\" Vision Transformer with support for global average pooling\n",
        "    \"\"\"\n",
        "    def __init__(self, global_pool=False, **kwargs):\n",
        "        super(VisionTransformer, self).__init__(**kwargs)\n",
        "\n",
        "        self.global_pool = global_pool\n",
        "        if self.global_pool:\n",
        "            norm_layer = kwargs['norm_layer']\n",
        "            embed_dim = kwargs['embed_dim']\n",
        "            self.fc_norm = norm_layer(embed_dim)\n",
        "\n",
        "            del self.norm  # remove the original norm\n",
        "\n",
        "    def forward_features(self, x):\n",
        "        B = x.shape[0]\n",
        "        x = self.patch_embed(x)\n",
        "\n",
        "        cls_tokens = self.cls_token.expand(B, -1, -1)  # stole cls_tokens impl from Phil Wang, thanks\n",
        "        x = torch.cat((cls_tokens, x), dim=1)\n",
        "        x = x + self.pos_embed\n",
        "        x = self.pos_drop(x)\n",
        "\n",
        "        for blk in self.blocks:\n",
        "            x = blk(x)\n",
        "\n",
        "        if self.global_pool:\n",
        "            x = x[:, 1:, :].mean(dim=1)  # global pool without cls token\n",
        "            outcome = self.fc_norm(x)\n",
        "        else:\n",
        "            x = self.norm(x)\n",
        "            outcome = x[:, 0]\n",
        "\n",
        "        return outcome\n",
        "\n",
        "\n",
        "def vit_large_patch16(**kwargs):\n",
        "    model = VisionTransformer(\n",
        "        patch_size=16, embed_dim=1024, depth=24, num_heads=16, mlp_ratio=4, qkv_bias=True,\n",
        "        norm_layer=partial(nn.LayerNorm, eps=1e-6), **kwargs)\n",
        "    return model"
      ]
    },
    {
      "cell_type": "code",
      "execution_count": 4,
      "metadata": {
        "colab": {
          "base_uri": "https://localhost:8080/"
        },
        "id": "0JRk4ZCPtJQg",
        "outputId": "dffbf07a-6cfc-4510-edf8-9bb8b3cd8ee9"
      },
      "outputs": [
        {
          "output_type": "stream",
          "name": "stdout",
          "text": [
            "Collecting timm\n",
            "  Downloading timm-0.9.12-py3-none-any.whl (2.2 MB)\n",
            "\u001b[K     |████████████████████████████████| 2.2 MB 3.8 MB/s \n",
            "\u001b[?25hCollecting safetensors\n",
            "  Downloading safetensors-0.5.3.tar.gz (67 kB)\n",
            "\u001b[K     |████████████████████████████████| 67 kB 48 kB/s \n",
            "\u001b[?25h  Installing build dependencies ... \u001b[?25l\u001b[?25hdone\n",
            "  Getting requirements to build wheel ... \u001b[?25l\u001b[?25hdone\n",
            "  Installing backend dependencies ... \u001b[?25l\u001b[?25herror\n",
            "\u001b[33mWARNING: Discarding https://files.pythonhosted.org/packages/71/7e/2d5d6ee7b40c0682315367ec7475693d110f512922d582fef1bd4a63adc3/safetensors-0.5.3.tar.gz#sha256=b6b0d6ecacec39a4fdd99cc19f4576f5219ce858e6fd8dbe7609df0b8dc56965 (from https://pypi.org/simple/safetensors/) (requires-python:>=3.7). Command errored out with exit status 1: /usr/local/bin/python /tmp/pip-standalone-pip-ppsvq1u0/__env_pip__.zip/pip install --ignore-installed --no-user --prefix /tmp/pip-build-env-y2rsrx0j/normal --no-warn-script-location -v --no-binary :none: --only-binary :none: -i https://pypi.org/simple -- puccinialin Check the logs for full command output.\u001b[0m\n",
            "  Downloading safetensors-0.5.2.tar.gz (66 kB)\n",
            "\u001b[K     |████████████████████████████████| 66 kB 6.2 MB/s \n",
            "\u001b[?25h  Installing build dependencies ... \u001b[?25l\u001b[?25hdone\n",
            "  Getting requirements to build wheel ... \u001b[?25l\u001b[?25hdone\n",
            "  Installing backend dependencies ... \u001b[?25l\u001b[?25herror\n",
            "\u001b[33mWARNING: Discarding https://files.pythonhosted.org/packages/f4/4f/2ef9ef1766f8c194b01b67a63a444d2e557c8fe1d82faf3ebd85f370a917/safetensors-0.5.2.tar.gz#sha256=cb4a8d98ba12fa016f4241932b1fc5e702e5143f5374bba0bbcf7ddc1c4cf2b8 (from https://pypi.org/simple/safetensors/) (requires-python:>=3.7). Command errored out with exit status 1: /usr/local/bin/python /tmp/pip-standalone-pip-lmk68fu9/__env_pip__.zip/pip install --ignore-installed --no-user --prefix /tmp/pip-build-env-dcc6se_h/normal --no-warn-script-location -v --no-binary :none: --only-binary :none: -i https://pypi.org/simple -- puccinialin Check the logs for full command output.\u001b[0m\n",
            "  Downloading safetensors-0.5.1.tar.gz (66 kB)\n",
            "\u001b[K     |████████████████████████████████| 66 kB 5.8 MB/s \n",
            "\u001b[?25h  Installing build dependencies ... \u001b[?25l\u001b[?25hdone\n",
            "  Getting requirements to build wheel ... \u001b[?25l\u001b[?25hdone\n",
            "  Installing backend dependencies ... \u001b[?25l\u001b[?25herror\n",
            "\u001b[33mWARNING: Discarding https://files.pythonhosted.org/packages/cd/4b/a45aedf2375cd86314749ad4760545b6e4ec7b306cfa142776daaca6c980/safetensors-0.5.1.tar.gz#sha256=75927919a73b0f34d6943b531d757f724e65797a900d88d8081fe8b4448eadc3 (from https://pypi.org/simple/safetensors/) (requires-python:>=3.7). Command errored out with exit status 1: /usr/local/bin/python /tmp/pip-standalone-pip-8d4y0qr4/__env_pip__.zip/pip install --ignore-installed --no-user --prefix /tmp/pip-build-env-70c797xn/normal --no-warn-script-location -v --no-binary :none: --only-binary :none: -i https://pypi.org/simple -- puccinialin Check the logs for full command output.\u001b[0m\n",
            "  Downloading safetensors-0.5.0.tar.gz (65 kB)\n",
            "\u001b[K     |████████████████████████████████| 65 kB 4.7 MB/s \n",
            "\u001b[?25h  Installing build dependencies ... \u001b[?25l\u001b[?25hdone\n",
            "  Getting requirements to build wheel ... \u001b[?25l\u001b[?25hdone\n",
            "  Installing backend dependencies ... \u001b[?25l\u001b[?25herror\n",
            "\u001b[33mWARNING: Discarding https://files.pythonhosted.org/packages/5d/b3/1d9000e9d0470499d124ca63c6908f8092b528b48bd95ba11507e14d9dba/safetensors-0.5.0.tar.gz#sha256=c47b34c549fa1e0c655c4644da31332c61332c732c47c8dd9399347e9aac69d1 (from https://pypi.org/simple/safetensors/) (requires-python:>=3.7). Command errored out with exit status 1: /usr/local/bin/python /tmp/pip-standalone-pip-_8cerf_w/__env_pip__.zip/pip install --ignore-installed --no-user --prefix /tmp/pip-build-env-tpo9kyww/normal --no-warn-script-location -v --no-binary :none: --only-binary :none: -i https://pypi.org/simple -- puccinialin Check the logs for full command output.\u001b[0m\n",
            "  Downloading safetensors-0.4.5-cp37-cp37m-manylinux_2_17_x86_64.manylinux2014_x86_64.whl (436 kB)\n",
            "\u001b[K     |████████████████████████████████| 436 kB 83.7 MB/s \n",
            "\u001b[?25hCollecting torchvision\n",
            "  Downloading torchvision-0.14.1-cp37-cp37m-manylinux1_x86_64.whl (24.2 MB)\n",
            "\u001b[K     |████████████████████████████████| 24.2 MB 1.2 MB/s \n",
            "\u001b[?25hCollecting pyyaml\n",
            "  Downloading PyYAML-6.0.1-cp37-cp37m-manylinux_2_17_x86_64.manylinux2014_x86_64.whl (670 kB)\n",
            "\u001b[K     |████████████████████████████████| 670 kB 90.7 MB/s \n",
            "\u001b[?25hCollecting huggingface-hub\n",
            "  Downloading huggingface_hub-0.16.4-py3-none-any.whl (268 kB)\n",
            "\u001b[K     |████████████████████████████████| 268 kB 90.6 MB/s \n",
            "\u001b[?25hCollecting torch>=1.7\n",
            "  Downloading torch-1.13.1-cp37-cp37m-manylinux1_x86_64.whl (887.5 MB)\n",
            "\u001b[K     |████████████████████████████████| 887.5 MB 8.2 kB/s \n",
            "\u001b[?25hCollecting nvidia-cuda-nvrtc-cu11==11.7.99\n",
            "  Downloading nvidia_cuda_nvrtc_cu11-11.7.99-2-py3-none-manylinux1_x86_64.whl (21.0 MB)\n",
            "\u001b[K     |████████████████████████████████| 21.0 MB 1.1 MB/s \n",
            "\u001b[?25hCollecting typing-extensions\n",
            "  Using cached typing_extensions-4.7.1-py3-none-any.whl (33 kB)\n",
            "Collecting nvidia-cudnn-cu11==8.5.0.96\n",
            "  Downloading nvidia_cudnn_cu11-8.5.0.96-2-py3-none-manylinux1_x86_64.whl (557.1 MB)\n",
            "\u001b[K     |████████████████████████████████| 557.1 MB 10 kB/s \n",
            "\u001b[?25hCollecting nvidia-cuda-runtime-cu11==11.7.99\n",
            "  Downloading nvidia_cuda_runtime_cu11-11.7.99-py3-none-manylinux1_x86_64.whl (849 kB)\n",
            "\u001b[K     |████████████████████████████████| 849 kB 88.2 MB/s \n",
            "\u001b[?25hCollecting nvidia-cublas-cu11==11.10.3.66\n",
            "  Downloading nvidia_cublas_cu11-11.10.3.66-py3-none-manylinux1_x86_64.whl (317.1 MB)\n",
            "\u001b[K     |████████████████████████████████| 317.1 MB 27 kB/s \n",
            "\u001b[?25hRequirement already satisfied: wheel in /usr/local/lib/python3.7/site-packages (from nvidia-cublas-cu11==11.10.3.66->torch>=1.7->timm) (0.37.1)\n",
            "Requirement already satisfied: setuptools in /usr/local/lib/python3.7/site-packages (from nvidia-cublas-cu11==11.10.3.66->torch>=1.7->timm) (58.0.4)\n",
            "Collecting importlib-metadata\n",
            "  Using cached importlib_metadata-6.7.0-py3-none-any.whl (22 kB)\n",
            "Requirement already satisfied: requests in /usr/local/lib/python3.7/site-packages (from huggingface-hub->timm) (2.27.1)\n",
            "Requirement already satisfied: tqdm>=4.42.1 in /usr/local/lib/python3.7/site-packages (from huggingface-hub->timm) (4.62.3)\n",
            "Collecting packaging>=20.9\n",
            "  Using cached packaging-24.0-py3-none-any.whl (53 kB)\n",
            "Collecting fsspec\n",
            "  Downloading fsspec-2023.1.0-py3-none-any.whl (143 kB)\n",
            "\u001b[K     |████████████████████████████████| 143 kB 91.4 MB/s \n",
            "\u001b[?25hCollecting filelock\n",
            "  Downloading filelock-3.12.2-py3-none-any.whl (10 kB)\n",
            "Collecting zipp>=0.5\n",
            "  Using cached zipp-3.15.0-py3-none-any.whl (6.8 kB)\n",
            "Requirement already satisfied: certifi>=2017.4.17 in /usr/local/lib/python3.7/site-packages (from requests->huggingface-hub->timm) (2021.10.8)\n",
            "Requirement already satisfied: idna<4,>=2.5 in /usr/local/lib/python3.7/site-packages (from requests->huggingface-hub->timm) (3.3)\n",
            "Requirement already satisfied: urllib3<1.27,>=1.21.1 in /usr/local/lib/python3.7/site-packages (from requests->huggingface-hub->timm) (1.26.7)\n",
            "Requirement already satisfied: charset-normalizer~=2.0.0 in /usr/local/lib/python3.7/site-packages (from requests->huggingface-hub->timm) (2.0.4)\n",
            "Collecting numpy\n",
            "  Using cached numpy-1.21.6-cp37-cp37m-manylinux_2_12_x86_64.manylinux2010_x86_64.whl (15.7 MB)\n",
            "Collecting pillow!=8.3.*,>=5.3.0\n",
            "  Downloading Pillow-9.5.0-cp37-cp37m-manylinux_2_28_x86_64.whl (3.4 MB)\n",
            "\u001b[K     |████████████████████████████████| 3.4 MB 68.7 MB/s \n",
            "\u001b[?25hInstalling collected packages: nvidia-cublas-cu11, zipp, typing-extensions, nvidia-cudnn-cu11, nvidia-cuda-runtime-cu11, nvidia-cuda-nvrtc-cu11, torch, pyyaml, pillow, packaging, numpy, importlib-metadata, fsspec, filelock, torchvision, safetensors, huggingface-hub, timm\n",
            "Successfully installed filelock-3.12.2 fsspec-2023.1.0 huggingface-hub-0.16.4 importlib-metadata-6.7.0 numpy-1.21.6 nvidia-cublas-cu11-11.10.3.66 nvidia-cuda-nvrtc-cu11-11.7.99 nvidia-cuda-runtime-cu11-11.7.99 nvidia-cudnn-cu11-8.5.0.96 packaging-24.0 pillow-9.5.0 pyyaml-6.0.1 safetensors-0.4.5 timm-0.9.12 torch-1.13.1 torchvision-0.14.1 typing-extensions-4.7.1 zipp-3.15.0\n",
            "\u001b[33mWARNING: Running pip as the 'root' user can result in broken permissions and conflicting behaviour with the system package manager. It is recommended to use a virtual environment instead: https://pip.pypa.io/warnings/venv\u001b[0m\n"
          ]
        }
      ],
      "source": [
        "!pip install timm"
      ]
    },
    {
      "cell_type": "code",
      "source": [
        "!pip list\n"
      ],
      "metadata": {
        "colab": {
          "base_uri": "https://localhost:8080/"
        },
        "id": "Onjv4NAaeqyB",
        "outputId": "e5f4a651-35a0-4c76-af22-6865f966b1d1"
      },
      "execution_count": 5,
      "outputs": [
        {
          "output_type": "stream",
          "name": "stdout",
          "text": [
            "Package                  Version\n",
            "------------------------ ----------\n",
            "brotlipy                 0.7.0\n",
            "certifi                  2021.10.8\n",
            "cffi                     1.15.0\n",
            "charset-normalizer       2.0.4\n",
            "conda                    4.11.0\n",
            "conda-content-trust      0+unknown\n",
            "conda-package-handling   1.7.3\n",
            "cryptography             36.0.0\n",
            "filelock                 3.12.2\n",
            "fsspec                   2023.1.0\n",
            "huggingface-hub          0.16.4\n",
            "idna                     3.3\n",
            "importlib-metadata       6.7.0\n",
            "numpy                    1.21.6\n",
            "nvidia-cublas-cu11       11.10.3.66\n",
            "nvidia-cuda-nvrtc-cu11   11.7.99\n",
            "nvidia-cuda-runtime-cu11 11.7.99\n",
            "nvidia-cudnn-cu11        8.5.0.96\n",
            "packaging                24.0\n",
            "Pillow                   9.5.0\n",
            "pip                      21.2.2\n",
            "pycosat                  0.6.3\n",
            "pycparser                2.21\n",
            "pyOpenSSL                21.0.0\n",
            "PySocks                  1.7.1\n",
            "PyYAML                   6.0.1\n",
            "requests                 2.27.1\n",
            "ruamel-yaml-conda        0.15.100\n",
            "safetensors              0.4.5\n",
            "setuptools               58.0.4\n",
            "six                      1.16.0\n",
            "timm                     0.9.12\n",
            "torch                    1.13.1\n",
            "torchvision              0.14.1\n",
            "tqdm                     4.62.3\n",
            "typing_extensions        4.7.1\n",
            "urllib3                  1.26.7\n",
            "wheel                    0.37.1\n",
            "zipp                     3.15.0\n"
          ]
        }
      ]
    },
    {
      "cell_type": "code",
      "source": [
        "#Part of the code of this cell is inspired by https://github.com/rmaphoh/RETFound_MAE/blob/main/latent_feature.ipynb\n",
        "import models_vit\n",
        "\n",
        "\n",
        "def prepare_model(chkpt_dir, arch='vit_large_patch16'):\n",
        "\n",
        "    model = models_vit.__dict__[arch](\n",
        "        img_size=224,\n",
        "        num_classes=2,\n",
        "        drop_path_rate=0,\n",
        "        global_pool=True,\n",
        "    )\n",
        "\n",
        "    checkpoint = torch.load(chkpt_dir, map_location='cuda')\n",
        "\n",
        "    msg = model.load_state_dict(checkpoint['model'], strict=False)\n",
        "    return model\n",
        "\n",
        "def define_model_SLO():\n",
        "\n",
        "    vit_encoder = prepare_model('/content/drive/MyDrive/SloFound.pth', 'vit_large_patch16')\n",
        "    for param in vit_encoder.parameters():\n",
        "        param.requires_grad = False\n",
        "\n",
        "    feature_dim = vit_encoder.head.in_features\n",
        "    vit_encoder.head = nn.Identity()\n",
        "\n",
        "\n",
        "    return vit_encoder\n",
        "\n",
        "def define_model_TM():\n",
        "\n",
        "    vit_encoder = prepare_model('/content/drive/MyDrive/ThickFound.pth', 'vit_large_patch16')\n",
        "    for param in vit_encoder.parameters():\n",
        "        param.requires_grad = False\n",
        "\n",
        "    feature_dim = vit_encoder.head.in_features\n",
        "    vit_encoder.head = nn.Identity()\n",
        "\n",
        "    return vit_encoder\n"
      ],
      "metadata": {
        "id": "Qy9hnZb_vmfs"
      },
      "execution_count": null,
      "outputs": []
    },
    {
      "cell_type": "code",
      "execution_count": null,
      "metadata": {
        "colab": {
          "base_uri": "https://localhost:8080/"
        },
        "id": "suTlhpG-YPP-",
        "outputId": "c7affd7c-e151-4740-f104-51aeffa1624f"
      },
      "outputs": [
        {
          "name": "stdout",
          "output_type": "stream",
          "text": [
            "Writing dataset.py\n"
          ]
        }
      ],
      "source": [
        "# Copy from https://github.com/rmaphoh/RETFound_MAE/blob/main/util/datasets.py\n",
        "# Copyright (c) Meta Platforms, Inc. and affiliates.\n",
        "# All rights reserved.\n",
        "# Partly revised by YZ @UCL&Moorfields\n",
        "# --------------------------------------------------------\n",
        "%%writefile dataset.py\n",
        "import os\n",
        "from torchvision import datasets, transforms\n",
        "from timm.data import create_transform\n",
        "from timm.data.constants import IMAGENET_DEFAULT_MEAN, IMAGENET_DEFAULT_STD\n",
        "\n",
        "\n",
        "def build_dataset(is_train):\n",
        "\n",
        "    transform = build_transform(is_train)\n",
        "    root = os.path.join(\"/content/drive/MyDrive/finetune_data_GCIPL_Edited\", is_train)\n",
        "    dataset = datasets.ImageFolder(root, transform=transform)\n",
        "\n",
        "    return dataset\n",
        "\n",
        "\n",
        "def build_transform(is_train):\n",
        "    mean = IMAGENET_DEFAULT_MEAN\n",
        "    std = IMAGENET_DEFAULT_STD\n",
        "    # train transform\n",
        "    if is_train=='train':\n",
        "        # this should always dispatch to transforms_imagenet_train\n",
        "        transform = create_transform(\n",
        "            input_size=224,\n",
        "            is_training=True,\n",
        "            color_jitter=None,\n",
        "            auto_augment='rand-m9-mstd0.5-inc1',\n",
        "            interpolation='bicubic',\n",
        "            re_prob=0.25,\n",
        "            re_mode='pixel',\n",
        "            re_count=1,\n",
        "            mean=mean,\n",
        "            std=std,\n",
        "        )\n",
        "        return transform\n",
        "\n",
        "    # eval transform\n",
        "    t = []\n",
        "    if 224 <= 224:\n",
        "        crop_pct = 224 / 256\n",
        "    else:\n",
        "        crop_pct = 1.0\n",
        "    size = int(224 / crop_pct)\n",
        "    t.append(\n",
        "        transforms.Resize(size, interpolation=transforms.InterpolationMode.BICUBIC),\n",
        "    )\n",
        "    t.append(transforms.CenterCrop(224))\n",
        "    t.append(transforms.ToTensor())\n",
        "    t.append(transforms.Normalize(mean, std))\n",
        "    return transforms.Compose(t)"
      ]
    },
    {
      "cell_type": "code",
      "source": [
        "import matplotlib.pyplot as plt\n",
        "from sklearn.metrics import roc_auc_score, recall_score, precision_score, confusion_matrix\n",
        "import torch\n",
        "import torch.nn as nn\n",
        "\n",
        "def best_model():\n",
        "\n",
        "    vit_encoder_TM = define_model_TM()\n",
        "\n",
        "    vit_encoder_SLO = define_model_SLO()\n",
        "\n",
        "\n",
        "    n_layers = 2\n",
        "    layers = []\n",
        "    feature_dim = 1024 * 2\n",
        "    in_features = feature_dim\n",
        "\n",
        "    out_features = 31\n",
        "    layers.append(nn.Linear(in_features, out_features))\n",
        "    layers.append(nn.ReLU())\n",
        "    p = 0.20437990802745362\n",
        "    layers.append(nn.Dropout(p))\n",
        "    in_features = out_features\n",
        "\n",
        "    out_features = 10\n",
        "    layers.append(nn.Linear(in_features, out_features))\n",
        "    layers.append(nn.ReLU())\n",
        "    p = 0.3178900937179511\n",
        "    layers.append(nn.Dropout(p))\n",
        "    in_features = out_features\n",
        "\n",
        "    layers.append(nn.Linear(in_features, CLASSES))\n",
        "    layers.append(nn.Sigmoid())\n",
        "\n",
        "    classifier = nn.Sequential(*layers).to(DEVICE)\n",
        "\n",
        "    classifier.apply(initialize_weights)\n",
        "\n",
        "\n",
        "    return vit_encoder_TM, vit_encoder_SLO, classifier"
      ],
      "metadata": {
        "id": "7WFgXKfevllP"
      },
      "execution_count": null,
      "outputs": []
    },
    {
      "cell_type": "code",
      "source": [
        "\n",
        "from sklearn.metrics import accuracy_score, f1_score\n",
        "import os\n",
        "from sklearn.model_selection import train_test_split\n",
        "import torch\n",
        "import torch.nn as nn\n",
        "import torch.nn.functional as F\n",
        "import torch.optim as optim\n",
        "import torch.utils.data\n",
        "from torchvision import datasets\n",
        "from torchvision import transforms\n",
        "from dataset import build_dataset\n",
        "# Custom dataset class with handling for left/right eyes\n",
        "from torch.utils.data import DataLoader, Dataset\n",
        "from skimage.transform import resize\n",
        "from PIL import Image, ImageOps\n",
        "from torch.optim.lr_scheduler import ReduceLROnPlateau\n",
        "import pickle\n",
        "\n",
        "\n",
        "device = torch.device(\"cuda\")\n",
        "DEVICE = torch.device(\"cuda\")\n",
        "BATCHSIZE = 16\n",
        "CLASSES = 1\n",
        "DIR = os.getcwd()\n",
        "EPOCHS = 50\n",
        "N_TRAIN_EXAMPLES = BATCHSIZE * 30\n",
        "N_VALID_EXAMPLES = BATCHSIZE * 10\n",
        "\n",
        "class EarlyStopping:\n",
        "    def __init__(self, patience=3, min_delta=0, verbose=False):\n",
        "        self.patience = patience\n",
        "        self.min_delta = min_delta\n",
        "        self.best_score = None\n",
        "        self.counter = 0\n",
        "        self.verbose = verbose\n",
        "\n",
        "    def __call__(self, val_loss):\n",
        "        if self.best_score is None:\n",
        "            self.best_score = val_loss\n",
        "        elif val_loss > self.best_score - self.min_delta:\n",
        "            self.counter += 1\n",
        "            if self.verbose:\n",
        "                print(f\"EarlyStopping counter: {self.counter}/{self.patience}\")\n",
        "            if self.counter >= self.patience:\n",
        "                return True\n",
        "        else:\n",
        "            self.best_score = val_loss\n",
        "            self.counter = 0\n",
        "        return False\n",
        "\n",
        "def initialize_weights(model):\n",
        "    \"\"\"\n",
        "    Initialize weights for the classifier model using Xavier (Glorot) initialization.\n",
        "    \"\"\"\n",
        "    for m in model.modules():\n",
        "        if isinstance(m, nn.Linear):\n",
        "            nn.init.xavier_normal_(m.weight)\n",
        "            if m.bias is not None:\n",
        "                nn.init.zeros_(m.bias)\n",
        "\n",
        "\n",
        "\n",
        "class MyDataset(Dataset):\n",
        "    def __init__(self, thickness_dir, slo_data, labels, eye_data, transform):\n",
        "        \"\"\"\n",
        "        Args:\n",
        "            thickness_dir: Directory containing thickness map images (with 'ms' and 'health' subfolders).\n",
        "            slo_data: Dictionary of SLO images with patient IDs as keys.\n",
        "            labels: Dictionary of labels with patient IDs as keys.\n",
        "            eye_data: Dictionary where each key is a patient ID and each value is a list\n",
        "                      indicating left eye (False) or right eye (True).\n",
        "            transform: Optional transform to be applied on the images.\n",
        "        \"\"\"\n",
        "        self.thickness_dir = thickness_dir\n",
        "        self.slo_data = slo_data\n",
        "        self.labels = labels\n",
        "        self.eye_data = eye_data\n",
        "        self.transform = transform\n",
        "\n",
        "        # Load thickness files from both \"ms\" and \"health\" subdirectories\n",
        "        self.thickness_files = []\n",
        "        for subfolder in ['ms', 'health']:\n",
        "            subfolder_path = os.path.join(thickness_dir, subfolder)\n",
        "            if os.path.exists(subfolder_path):\n",
        "                self.thickness_files.extend([\n",
        "                    os.path.join(subfolder, f) for f in os.listdir(subfolder_path) if f.endswith('.png')\n",
        "                ])\n",
        "\n",
        "    def __len__(self):\n",
        "        return len(self.thickness_files)\n",
        "\n",
        "    def __getitem__(self, idx):\n",
        "\n",
        "      thickness_filename = self.thickness_files[idx]\n",
        "      thickness_path = os.path.join(self.thickness_dir, thickness_filename)\n",
        "      thickness_img = Image.open(thickness_path)\n",
        "\n",
        "      # Get the ID from the filename\n",
        "      parts = os.path.basename(thickness_filename).split('_')\n",
        "      patient_id = parts[1]  # Only use the filename to match patient ID\n",
        "      Thicknessmap_sp = parts[2]\n",
        "      # Get the eye information from the sp dictionary\n",
        "      eye_info = self.eye_data[patient_id]\n",
        "\n",
        "      # We assume the SLO data has two entries (one for each eye)\n",
        "\n",
        "      if len(eye_info) >= 2:\n",
        "          # Check the thickness map to determine which eye we are working with\n",
        "\n",
        "          if Thicknessmap_sp == eye_info[0]:\n",
        "              slo_array = self.slo_data[patient_id][0]\n",
        "          else:\n",
        "              slo_array = self.slo_data[patient_id][1]\n",
        "      elif len(eye_info) == 1:\n",
        "\n",
        "          slo_array = self.slo_data[patient_id][0]\n",
        "\n",
        "      slo_resized = resize(slo_array, (224, 224), anti_aliasing=True)\n",
        "\n",
        "      slo_img = Image.fromarray(slo_resized).resize((224, 224)).convert('RGB')\n",
        "\n",
        "      # Check if the SLO data corresponds to a left eye and needs flipping\n",
        "      if eye_info[0] == False:\n",
        "\n",
        "          slo_img = ImageOps.mirror(slo_img)\n",
        "\n",
        "\n",
        "      if self.transform:\n",
        "          thickness_img = self.transform(thickness_img)\n",
        "          slo_img = self.transform(slo_img)\n",
        "\n",
        "      label = self.labels[patient_id]\n",
        "\n",
        "      return slo_img, thickness_img, torch.tensor(label, dtype=torch.float32)\n",
        "\n",
        "\n",
        "def get_data_merged():\n",
        "        # Load the SLO data and labels\n",
        "    with open('/content/drive/MyDrive/test_labels_Iran.pkl', 'rb') as f:\n",
        "        test_labels = pickle.load(f)\n",
        "\n",
        "    with open('/content/drive/MyDrive/test_slo_iran.pkl', 'rb') as f:\n",
        "        test_slo = pickle.load(f)\n",
        "\n",
        "    with open('/content/drive/MyDrive/train_labels_Iran.pkl', 'rb') as f:\n",
        "        train_labels = pickle.load(f)\n",
        "\n",
        "    with open('/content/drive/MyDrive/train_slo_iran.pkl', 'rb') as f:\n",
        "        train_slo = pickle.load(f)\n",
        "\n",
        "    with open('/content/drive/MyDrive/train_sp_iran.pkl', 'rb') as f:\n",
        "        train_sp = pickle.load(f)\n",
        "\n",
        "    with open('/content/drive/MyDrive/test_sp_iran.pkl', 'rb') as f:\n",
        "        test_sp = pickle.load(f)\n",
        "\n",
        "    transform = transforms.Compose([\n",
        "        transforms.Resize((224, 224)),\n",
        "        transforms.ToTensor(),\n",
        "        transforms.Normalize(mean=[0.485, 0.456, 0.406], std=[0.229, 0.224, 0.225]),\n",
        "    ])\n",
        "\n",
        "    # Set up data directories\n",
        "    train_thickness_dir = '/content/drive/MyDrive/finetune_data_GCIPL_Edited/train'\n",
        "    test_thickness_dir = '/content/drive/MyDrive/finetune_data_GCIPL_Edited/test'\n",
        "\n",
        "    # Prepare the training and testing datasets\n",
        "    dataset = MyDataset(train_thickness_dir, train_slo, train_labels, train_sp, transform=transform)\n",
        "    dataset_test = MyDataset(test_thickness_dir, test_slo, test_labels, test_sp, transform=transform)\n",
        "\n",
        "    dataset_train, dataset_val = train_test_split(dataset, test_size=0.2, random_state=42)\n",
        "\n",
        "\n",
        "\n",
        "    sampler_val = torch.utils.data.SequentialSampler(dataset_val)\n",
        "    sampler_train = torch.utils.data.RandomSampler(dataset_train)\n",
        "    sampler_test = torch.utils.data.RandomSampler(dataset_test)\n",
        "\n",
        "    train_loader = torch.utils.data.DataLoader(\n",
        "            dataset_train, sampler=sampler_train,\n",
        "            batch_size=BATCHSIZE,\n",
        "            num_workers=10,\n",
        "            pin_memory=True,\n",
        "            drop_last=True,\n",
        "        )\n",
        "\n",
        "    valid_loader = torch.utils.data.DataLoader(\n",
        "        dataset_val, sampler=sampler_val,\n",
        "        batch_size=BATCHSIZE,\n",
        "        num_workers=10,\n",
        "        pin_memory=True,\n",
        "        drop_last=False\n",
        "    )\n",
        "\n",
        "    test_loader = torch.utils.data.DataLoader(\n",
        "        dataset_test, sampler=sampler_test,\n",
        "        batch_size=BATCHSIZE,\n",
        "        num_workers=10,\n",
        "        pin_memory=True,\n",
        "        drop_last=False\n",
        "    )\n",
        "\n",
        "    return train_loader, valid_loader, test_loader"
      ],
      "metadata": {
        "id": "rAYoNoxXHYlZ"
      },
      "execution_count": null,
      "outputs": []
    },
    {
      "cell_type": "code",
      "execution_count": null,
      "metadata": {
        "id": "kP5rF-JOSXJO"
      },
      "outputs": [],
      "source": [
        "import torch\n",
        "import torch.nn as nn\n",
        "import lr_decay as lrd\n",
        "import models_vit\n",
        "\n",
        "\n",
        "\n",
        "DEVICE = torch.device(\"cuda\")\n",
        "\n",
        "class MergedModel_IRAN(nn.Module):\n",
        "    def __init__(self, vit_encoder_TM, vit_encoder_SLO, classifier):\n",
        "        super(MergedModel_IRAN, self).__init__()\n",
        "        self.vit_encoder_TM = vit_encoder_TM\n",
        "        self.vit_encoder_SLO = vit_encoder_SLO\n",
        "        self.classifier = classifier\n",
        "\n",
        "        # Ensure encoders have `blocks` for LRD\n",
        "        if not hasattr(self.vit_encoder_TM, \"blocks\") or not hasattr(self.vit_encoder_SLO, \"blocks\"):\n",
        "            raise AttributeError(\"Both ViT encoders must have a 'blocks' attribute for layer-wise decay.\")\n",
        "\n",
        "    def forward(self, thickness_img, slo_img):\n",
        "        latent_features_TM = self.run_batch_images(thickness_img, self.vit_encoder_TM)\n",
        "        latent_features_SLO = self.run_batch_images(slo_img, self.vit_encoder_SLO)\n",
        "        merged_features = torch.cat((latent_features_SLO, latent_features_TM), dim=-1)\n",
        "        return self.classifier(merged_features)\n",
        "\n",
        "    @staticmethod\n",
        "    def run_batch_images(imgs, model):\n",
        "        model = model.to(DEVICE)\n",
        "        x = torch.tensor(imgs).to(DEVICE, non_blocking=True)\n",
        "        latent = model.forward_features(x.float())\n",
        "        return torch.squeeze(latent)\n",
        "\n",
        "    def get_param_groups_lrd(self, weight_decay=1e-5, layer_decay=0.5):\n",
        "        \"\"\"Returns parameter groups for applying layer-wise learning rate decay.\"\"\"\n",
        "\n",
        "\n",
        "        param_groups = []\n",
        "\n",
        "        # Apply LRD to both ViT encoders\n",
        "        param_groups += lrd.param_groups_lrd(self.vit_encoder_TM, weight_decay=weight_decay, layer_decay=layer_decay)\n",
        "        param_groups += lrd.param_groups_lrd(self.vit_encoder_SLO, weight_decay=weight_decay, layer_decay=layer_decay)\n",
        "\n",
        "        # Add classifier parameters (without decay)\n",
        "        classifier_params = {\"params\": list(self.classifier.parameters()), \"weight_decay\": weight_decay}\n",
        "        param_groups.append(classifier_params)\n",
        "\n",
        "        return param_groups\n",
        "\n",
        "\n"
      ]
    },
    {
      "cell_type": "code",
      "execution_count": null,
      "metadata": {
        "colab": {
          "base_uri": "https://localhost:8080/"
        },
        "id": "Oh0JyVrcz2iP",
        "outputId": "c0d2c090-070e-4b86-8346-b364bb7aea31"
      },
      "outputs": [
        {
          "name": "stderr",
          "output_type": "stream",
          "text": [
            "<ipython-input-3-8eaa92c0e856>:14: FutureWarning: You are using `torch.load` with `weights_only=False` (the current default value), which uses the default pickle module implicitly. It is possible to construct malicious pickle data which will execute arbitrary code during unpickling (See https://github.com/pytorch/pytorch/blob/main/SECURITY.md#untrusted-models for more details). In a future release, the default value for `weights_only` will be flipped to `True`. This limits the functions that could be executed during unpickling. Arbitrary objects will no longer be allowed to be loaded via this mode unless they are explicitly allowlisted by the user via `torch.serialization.add_safe_globals`. We recommend you start setting `weights_only=True` for any use case where you don't have full control of the loaded file. Please open an issue on GitHub for any issues related to this experimental feature.\n",
            "  checkpoint = torch.load(chkpt_dir, map_location='cuda')\n"
          ]
        },
        {
          "name": "stdout",
          "output_type": "stream",
          "text": [
            "epoch : 0\n"
          ]
        },
        {
          "name": "stderr",
          "output_type": "stream",
          "text": [
            "/usr/local/lib/python3.11/dist-packages/torch/optim/lr_scheduler.py:62: UserWarning: The verbose parameter is deprecated. Please use get_last_lr() to access the learning rate.\n",
            "  warnings.warn(\n",
            "<ipython-input-10-3c610b8abcee>:80: UserWarning: To copy construct from a tensor, it is recommended to use sourceTensor.clone().detach() or sourceTensor.clone().detach().requires_grad_(True), rather than torch.tensor(sourceTensor).\n",
            "  x = torch.tensor(imgs).to(DEVICE, non_blocking=True)\n"
          ]
        },
        {
          "name": "stdout",
          "output_type": "stream",
          "text": [
            "Train Loss: 2.0350 | Train Accuracy: 0.6339 | Train F1 Score: 0.3051\n"
          ]
        },
        {
          "name": "stderr",
          "output_type": "stream",
          "text": [
            "<ipython-input-10-3c610b8abcee>:80: UserWarning: To copy construct from a tensor, it is recommended to use sourceTensor.clone().detach() or sourceTensor.clone().detach().requires_grad_(True), rather than torch.tensor(sourceTensor).\n",
            "  x = torch.tensor(imgs).to(DEVICE, non_blocking=True)\n"
          ]
        },
        {
          "name": "stdout",
          "output_type": "stream",
          "text": [
            "Validation Loss: 0.4958 | Validation Accuracy: 0.8966\n",
            "epoch : 1\n"
          ]
        },
        {
          "name": "stderr",
          "output_type": "stream",
          "text": [
            "<ipython-input-10-3c610b8abcee>:80: UserWarning: To copy construct from a tensor, it is recommended to use sourceTensor.clone().detach() or sourceTensor.clone().detach().requires_grad_(True), rather than torch.tensor(sourceTensor).\n",
            "  x = torch.tensor(imgs).to(DEVICE, non_blocking=True)\n"
          ]
        },
        {
          "name": "stdout",
          "output_type": "stream",
          "text": [
            "Train Loss: 0.7957 | Train Accuracy: 0.7321 | Train F1 Score: 0.5588\n"
          ]
        },
        {
          "name": "stderr",
          "output_type": "stream",
          "text": [
            "<ipython-input-10-3c610b8abcee>:80: UserWarning: To copy construct from a tensor, it is recommended to use sourceTensor.clone().detach() or sourceTensor.clone().detach().requires_grad_(True), rather than torch.tensor(sourceTensor).\n",
            "  x = torch.tensor(imgs).to(DEVICE, non_blocking=True)\n"
          ]
        },
        {
          "name": "stdout",
          "output_type": "stream",
          "text": [
            "Validation Loss: 0.2388 | Validation Accuracy: 0.9310\n",
            "epoch : 2\n"
          ]
        },
        {
          "name": "stderr",
          "output_type": "stream",
          "text": [
            "<ipython-input-10-3c610b8abcee>:80: UserWarning: To copy construct from a tensor, it is recommended to use sourceTensor.clone().detach() or sourceTensor.clone().detach().requires_grad_(True), rather than torch.tensor(sourceTensor).\n",
            "  x = torch.tensor(imgs).to(DEVICE, non_blocking=True)\n"
          ]
        },
        {
          "name": "stdout",
          "output_type": "stream",
          "text": [
            "Train Loss: 0.5950 | Train Accuracy: 0.7857 | Train F1 Score: 0.6667\n"
          ]
        },
        {
          "name": "stderr",
          "output_type": "stream",
          "text": [
            "<ipython-input-10-3c610b8abcee>:80: UserWarning: To copy construct from a tensor, it is recommended to use sourceTensor.clone().detach() or sourceTensor.clone().detach().requires_grad_(True), rather than torch.tensor(sourceTensor).\n",
            "  x = torch.tensor(imgs).to(DEVICE, non_blocking=True)\n"
          ]
        },
        {
          "name": "stdout",
          "output_type": "stream",
          "text": [
            "Validation Loss: 0.3787 | Validation Accuracy: 0.8966\n",
            "EarlyStopping counter: 1/10\n",
            "epoch : 3\n"
          ]
        },
        {
          "name": "stderr",
          "output_type": "stream",
          "text": [
            "<ipython-input-10-3c610b8abcee>:80: UserWarning: To copy construct from a tensor, it is recommended to use sourceTensor.clone().detach() or sourceTensor.clone().detach().requires_grad_(True), rather than torch.tensor(sourceTensor).\n",
            "  x = torch.tensor(imgs).to(DEVICE, non_blocking=True)\n"
          ]
        },
        {
          "name": "stdout",
          "output_type": "stream",
          "text": [
            "Train Loss: 0.6169 | Train Accuracy: 0.7679 | Train F1 Score: 0.6176\n"
          ]
        },
        {
          "name": "stderr",
          "output_type": "stream",
          "text": [
            "<ipython-input-10-3c610b8abcee>:80: UserWarning: To copy construct from a tensor, it is recommended to use sourceTensor.clone().detach() or sourceTensor.clone().detach().requires_grad_(True), rather than torch.tensor(sourceTensor).\n",
            "  x = torch.tensor(imgs).to(DEVICE, non_blocking=True)\n"
          ]
        },
        {
          "name": "stdout",
          "output_type": "stream",
          "text": [
            "Validation Loss: 0.4142 | Validation Accuracy: 0.7241\n",
            "EarlyStopping counter: 2/10\n",
            "epoch : 4\n"
          ]
        },
        {
          "name": "stderr",
          "output_type": "stream",
          "text": [
            "<ipython-input-10-3c610b8abcee>:80: UserWarning: To copy construct from a tensor, it is recommended to use sourceTensor.clone().detach() or sourceTensor.clone().detach().requires_grad_(True), rather than torch.tensor(sourceTensor).\n",
            "  x = torch.tensor(imgs).to(DEVICE, non_blocking=True)\n"
          ]
        },
        {
          "name": "stdout",
          "output_type": "stream",
          "text": [
            "Train Loss: 0.5289 | Train Accuracy: 0.7500 | Train F1 Score: 0.5000\n"
          ]
        },
        {
          "name": "stderr",
          "output_type": "stream",
          "text": [
            "<ipython-input-10-3c610b8abcee>:80: UserWarning: To copy construct from a tensor, it is recommended to use sourceTensor.clone().detach() or sourceTensor.clone().detach().requires_grad_(True), rather than torch.tensor(sourceTensor).\n",
            "  x = torch.tensor(imgs).to(DEVICE, non_blocking=True)\n"
          ]
        },
        {
          "name": "stdout",
          "output_type": "stream",
          "text": [
            "Validation Loss: 0.3482 | Validation Accuracy: 0.8966\n",
            "EarlyStopping counter: 3/10\n",
            "epoch : 5\n"
          ]
        },
        {
          "name": "stderr",
          "output_type": "stream",
          "text": [
            "<ipython-input-10-3c610b8abcee>:80: UserWarning: To copy construct from a tensor, it is recommended to use sourceTensor.clone().detach() or sourceTensor.clone().detach().requires_grad_(True), rather than torch.tensor(sourceTensor).\n",
            "  x = torch.tensor(imgs).to(DEVICE, non_blocking=True)\n"
          ]
        },
        {
          "name": "stdout",
          "output_type": "stream",
          "text": [
            "Train Loss: 0.3780 | Train Accuracy: 0.8304 | Train F1 Score: 0.6780\n"
          ]
        },
        {
          "name": "stderr",
          "output_type": "stream",
          "text": [
            "<ipython-input-10-3c610b8abcee>:80: UserWarning: To copy construct from a tensor, it is recommended to use sourceTensor.clone().detach() or sourceTensor.clone().detach().requires_grad_(True), rather than torch.tensor(sourceTensor).\n",
            "  x = torch.tensor(imgs).to(DEVICE, non_blocking=True)\n"
          ]
        },
        {
          "name": "stdout",
          "output_type": "stream",
          "text": [
            "Validation Loss: 0.2188 | Validation Accuracy: 0.9655\n",
            "epoch : 6\n"
          ]
        },
        {
          "name": "stderr",
          "output_type": "stream",
          "text": [
            "<ipython-input-10-3c610b8abcee>:80: UserWarning: To copy construct from a tensor, it is recommended to use sourceTensor.clone().detach() or sourceTensor.clone().detach().requires_grad_(True), rather than torch.tensor(sourceTensor).\n",
            "  x = torch.tensor(imgs).to(DEVICE, non_blocking=True)\n"
          ]
        },
        {
          "name": "stdout",
          "output_type": "stream",
          "text": [
            "Train Loss: 0.2959 | Train Accuracy: 0.8393 | Train F1 Score: 0.7097\n"
          ]
        },
        {
          "name": "stderr",
          "output_type": "stream",
          "text": [
            "<ipython-input-10-3c610b8abcee>:80: UserWarning: To copy construct from a tensor, it is recommended to use sourceTensor.clone().detach() or sourceTensor.clone().detach().requires_grad_(True), rather than torch.tensor(sourceTensor).\n",
            "  x = torch.tensor(imgs).to(DEVICE, non_blocking=True)\n"
          ]
        },
        {
          "name": "stdout",
          "output_type": "stream",
          "text": [
            "Validation Loss: 0.2099 | Validation Accuracy: 0.8966\n",
            "epoch : 7\n"
          ]
        },
        {
          "name": "stderr",
          "output_type": "stream",
          "text": [
            "<ipython-input-10-3c610b8abcee>:80: UserWarning: To copy construct from a tensor, it is recommended to use sourceTensor.clone().detach() or sourceTensor.clone().detach().requires_grad_(True), rather than torch.tensor(sourceTensor).\n",
            "  x = torch.tensor(imgs).to(DEVICE, non_blocking=True)\n"
          ]
        },
        {
          "name": "stdout",
          "output_type": "stream",
          "text": [
            "Train Loss: 0.3991 | Train Accuracy: 0.8036 | Train F1 Score: 0.6562\n"
          ]
        },
        {
          "name": "stderr",
          "output_type": "stream",
          "text": [
            "<ipython-input-10-3c610b8abcee>:80: UserWarning: To copy construct from a tensor, it is recommended to use sourceTensor.clone().detach() or sourceTensor.clone().detach().requires_grad_(True), rather than torch.tensor(sourceTensor).\n",
            "  x = torch.tensor(imgs).to(DEVICE, non_blocking=True)\n"
          ]
        },
        {
          "name": "stdout",
          "output_type": "stream",
          "text": [
            "Validation Loss: 0.1682 | Validation Accuracy: 0.9655\n",
            "epoch : 8\n"
          ]
        },
        {
          "name": "stderr",
          "output_type": "stream",
          "text": [
            "<ipython-input-10-3c610b8abcee>:80: UserWarning: To copy construct from a tensor, it is recommended to use sourceTensor.clone().detach() or sourceTensor.clone().detach().requires_grad_(True), rather than torch.tensor(sourceTensor).\n",
            "  x = torch.tensor(imgs).to(DEVICE, non_blocking=True)\n"
          ]
        },
        {
          "name": "stdout",
          "output_type": "stream",
          "text": [
            "Train Loss: 0.3012 | Train Accuracy: 0.8214 | Train F1 Score: 0.6970\n"
          ]
        },
        {
          "name": "stderr",
          "output_type": "stream",
          "text": [
            "<ipython-input-10-3c610b8abcee>:80: UserWarning: To copy construct from a tensor, it is recommended to use sourceTensor.clone().detach() or sourceTensor.clone().detach().requires_grad_(True), rather than torch.tensor(sourceTensor).\n",
            "  x = torch.tensor(imgs).to(DEVICE, non_blocking=True)\n"
          ]
        },
        {
          "name": "stdout",
          "output_type": "stream",
          "text": [
            "Validation Loss: 0.1834 | Validation Accuracy: 0.9655\n",
            "EarlyStopping counter: 1/10\n",
            "epoch : 9\n"
          ]
        },
        {
          "name": "stderr",
          "output_type": "stream",
          "text": [
            "<ipython-input-10-3c610b8abcee>:80: UserWarning: To copy construct from a tensor, it is recommended to use sourceTensor.clone().detach() or sourceTensor.clone().detach().requires_grad_(True), rather than torch.tensor(sourceTensor).\n",
            "  x = torch.tensor(imgs).to(DEVICE, non_blocking=True)\n"
          ]
        },
        {
          "name": "stdout",
          "output_type": "stream",
          "text": [
            "Train Loss: 0.3045 | Train Accuracy: 0.8036 | Train F1 Score: 0.6071\n"
          ]
        },
        {
          "name": "stderr",
          "output_type": "stream",
          "text": [
            "<ipython-input-10-3c610b8abcee>:80: UserWarning: To copy construct from a tensor, it is recommended to use sourceTensor.clone().detach() or sourceTensor.clone().detach().requires_grad_(True), rather than torch.tensor(sourceTensor).\n",
            "  x = torch.tensor(imgs).to(DEVICE, non_blocking=True)\n"
          ]
        },
        {
          "name": "stdout",
          "output_type": "stream",
          "text": [
            "Validation Loss: 0.1768 | Validation Accuracy: 1.0000\n",
            "EarlyStopping counter: 2/10\n",
            "epoch : 10\n"
          ]
        },
        {
          "name": "stderr",
          "output_type": "stream",
          "text": [
            "<ipython-input-10-3c610b8abcee>:80: UserWarning: To copy construct from a tensor, it is recommended to use sourceTensor.clone().detach() or sourceTensor.clone().detach().requires_grad_(True), rather than torch.tensor(sourceTensor).\n",
            "  x = torch.tensor(imgs).to(DEVICE, non_blocking=True)\n"
          ]
        },
        {
          "name": "stdout",
          "output_type": "stream",
          "text": [
            "Train Loss: 0.3023 | Train Accuracy: 0.8304 | Train F1 Score: 0.6780\n"
          ]
        },
        {
          "name": "stderr",
          "output_type": "stream",
          "text": [
            "<ipython-input-10-3c610b8abcee>:80: UserWarning: To copy construct from a tensor, it is recommended to use sourceTensor.clone().detach() or sourceTensor.clone().detach().requires_grad_(True), rather than torch.tensor(sourceTensor).\n",
            "  x = torch.tensor(imgs).to(DEVICE, non_blocking=True)\n"
          ]
        },
        {
          "name": "stdout",
          "output_type": "stream",
          "text": [
            "Validation Loss: 0.2022 | Validation Accuracy: 0.8966\n",
            "EarlyStopping counter: 3/10\n",
            "epoch : 11\n"
          ]
        },
        {
          "name": "stderr",
          "output_type": "stream",
          "text": [
            "<ipython-input-10-3c610b8abcee>:80: UserWarning: To copy construct from a tensor, it is recommended to use sourceTensor.clone().detach() or sourceTensor.clone().detach().requires_grad_(True), rather than torch.tensor(sourceTensor).\n",
            "  x = torch.tensor(imgs).to(DEVICE, non_blocking=True)\n"
          ]
        },
        {
          "name": "stdout",
          "output_type": "stream",
          "text": [
            "Train Loss: 0.2495 | Train Accuracy: 0.8393 | Train F1 Score: 0.6897\n"
          ]
        },
        {
          "name": "stderr",
          "output_type": "stream",
          "text": [
            "<ipython-input-10-3c610b8abcee>:80: UserWarning: To copy construct from a tensor, it is recommended to use sourceTensor.clone().detach() or sourceTensor.clone().detach().requires_grad_(True), rather than torch.tensor(sourceTensor).\n",
            "  x = torch.tensor(imgs).to(DEVICE, non_blocking=True)\n"
          ]
        },
        {
          "name": "stdout",
          "output_type": "stream",
          "text": [
            "Validation Loss: 0.1900 | Validation Accuracy: 0.8966\n",
            "EarlyStopping counter: 4/10\n",
            "epoch : 12\n"
          ]
        },
        {
          "name": "stderr",
          "output_type": "stream",
          "text": [
            "<ipython-input-10-3c610b8abcee>:80: UserWarning: To copy construct from a tensor, it is recommended to use sourceTensor.clone().detach() or sourceTensor.clone().detach().requires_grad_(True), rather than torch.tensor(sourceTensor).\n",
            "  x = torch.tensor(imgs).to(DEVICE, non_blocking=True)\n"
          ]
        },
        {
          "name": "stdout",
          "output_type": "stream",
          "text": [
            "Train Loss: 0.3172 | Train Accuracy: 0.7589 | Train F1 Score: 0.5424\n"
          ]
        },
        {
          "name": "stderr",
          "output_type": "stream",
          "text": [
            "<ipython-input-10-3c610b8abcee>:80: UserWarning: To copy construct from a tensor, it is recommended to use sourceTensor.clone().detach() or sourceTensor.clone().detach().requires_grad_(True), rather than torch.tensor(sourceTensor).\n",
            "  x = torch.tensor(imgs).to(DEVICE, non_blocking=True)\n"
          ]
        },
        {
          "name": "stdout",
          "output_type": "stream",
          "text": [
            "Validation Loss: 0.1767 | Validation Accuracy: 0.9310\n",
            "EarlyStopping counter: 5/10\n",
            "epoch : 13\n"
          ]
        },
        {
          "name": "stderr",
          "output_type": "stream",
          "text": [
            "<ipython-input-10-3c610b8abcee>:80: UserWarning: To copy construct from a tensor, it is recommended to use sourceTensor.clone().detach() or sourceTensor.clone().detach().requires_grad_(True), rather than torch.tensor(sourceTensor).\n",
            "  x = torch.tensor(imgs).to(DEVICE, non_blocking=True)\n"
          ]
        },
        {
          "name": "stdout",
          "output_type": "stream",
          "text": [
            "Train Loss: 0.3053 | Train Accuracy: 0.7679 | Train F1 Score: 0.5000\n"
          ]
        },
        {
          "name": "stderr",
          "output_type": "stream",
          "text": [
            "<ipython-input-10-3c610b8abcee>:80: UserWarning: To copy construct from a tensor, it is recommended to use sourceTensor.clone().detach() or sourceTensor.clone().detach().requires_grad_(True), rather than torch.tensor(sourceTensor).\n",
            "  x = torch.tensor(imgs).to(DEVICE, non_blocking=True)\n"
          ]
        },
        {
          "name": "stdout",
          "output_type": "stream",
          "text": [
            "Validation Loss: 0.1952 | Validation Accuracy: 1.0000\n",
            "EarlyStopping counter: 6/10\n",
            "epoch : 14\n"
          ]
        },
        {
          "name": "stderr",
          "output_type": "stream",
          "text": [
            "<ipython-input-10-3c610b8abcee>:80: UserWarning: To copy construct from a tensor, it is recommended to use sourceTensor.clone().detach() or sourceTensor.clone().detach().requires_grad_(True), rather than torch.tensor(sourceTensor).\n",
            "  x = torch.tensor(imgs).to(DEVICE, non_blocking=True)\n"
          ]
        },
        {
          "name": "stdout",
          "output_type": "stream",
          "text": [
            "Train Loss: 0.2521 | Train Accuracy: 0.8571 | Train F1 Score: 0.7500\n"
          ]
        },
        {
          "name": "stderr",
          "output_type": "stream",
          "text": [
            "<ipython-input-10-3c610b8abcee>:80: UserWarning: To copy construct from a tensor, it is recommended to use sourceTensor.clone().detach() or sourceTensor.clone().detach().requires_grad_(True), rather than torch.tensor(sourceTensor).\n",
            "  x = torch.tensor(imgs).to(DEVICE, non_blocking=True)\n"
          ]
        },
        {
          "name": "stdout",
          "output_type": "stream",
          "text": [
            "Validation Loss: 0.1159 | Validation Accuracy: 0.9655\n",
            "epoch : 15\n"
          ]
        },
        {
          "name": "stderr",
          "output_type": "stream",
          "text": [
            "<ipython-input-10-3c610b8abcee>:80: UserWarning: To copy construct from a tensor, it is recommended to use sourceTensor.clone().detach() or sourceTensor.clone().detach().requires_grad_(True), rather than torch.tensor(sourceTensor).\n",
            "  x = torch.tensor(imgs).to(DEVICE, non_blocking=True)\n"
          ]
        },
        {
          "name": "stdout",
          "output_type": "stream",
          "text": [
            "Train Loss: 0.2385 | Train Accuracy: 0.8929 | Train F1 Score: 0.8378\n"
          ]
        },
        {
          "name": "stderr",
          "output_type": "stream",
          "text": [
            "<ipython-input-10-3c610b8abcee>:80: UserWarning: To copy construct from a tensor, it is recommended to use sourceTensor.clone().detach() or sourceTensor.clone().detach().requires_grad_(True), rather than torch.tensor(sourceTensor).\n",
            "  x = torch.tensor(imgs).to(DEVICE, non_blocking=True)\n"
          ]
        },
        {
          "name": "stdout",
          "output_type": "stream",
          "text": [
            "Validation Loss: 0.1055 | Validation Accuracy: 0.9655\n",
            "epoch : 16\n"
          ]
        },
        {
          "name": "stderr",
          "output_type": "stream",
          "text": [
            "<ipython-input-10-3c610b8abcee>:80: UserWarning: To copy construct from a tensor, it is recommended to use sourceTensor.clone().detach() or sourceTensor.clone().detach().requires_grad_(True), rather than torch.tensor(sourceTensor).\n",
            "  x = torch.tensor(imgs).to(DEVICE, non_blocking=True)\n"
          ]
        },
        {
          "name": "stdout",
          "output_type": "stream",
          "text": [
            "Train Loss: 0.2343 | Train Accuracy: 0.8929 | Train F1 Score: 0.8500\n"
          ]
        },
        {
          "name": "stderr",
          "output_type": "stream",
          "text": [
            "<ipython-input-10-3c610b8abcee>:80: UserWarning: To copy construct from a tensor, it is recommended to use sourceTensor.clone().detach() or sourceTensor.clone().detach().requires_grad_(True), rather than torch.tensor(sourceTensor).\n",
            "  x = torch.tensor(imgs).to(DEVICE, non_blocking=True)\n"
          ]
        },
        {
          "name": "stdout",
          "output_type": "stream",
          "text": [
            "Validation Loss: 0.1076 | Validation Accuracy: 0.9655\n",
            "EarlyStopping counter: 1/10\n",
            "epoch : 17\n"
          ]
        },
        {
          "name": "stderr",
          "output_type": "stream",
          "text": [
            "<ipython-input-10-3c610b8abcee>:80: UserWarning: To copy construct from a tensor, it is recommended to use sourceTensor.clone().detach() or sourceTensor.clone().detach().requires_grad_(True), rather than torch.tensor(sourceTensor).\n",
            "  x = torch.tensor(imgs).to(DEVICE, non_blocking=True)\n"
          ]
        },
        {
          "name": "stdout",
          "output_type": "stream",
          "text": [
            "Train Loss: 0.1945 | Train Accuracy: 0.9196 | Train F1 Score: 0.8615\n"
          ]
        },
        {
          "name": "stderr",
          "output_type": "stream",
          "text": [
            "<ipython-input-10-3c610b8abcee>:80: UserWarning: To copy construct from a tensor, it is recommended to use sourceTensor.clone().detach() or sourceTensor.clone().detach().requires_grad_(True), rather than torch.tensor(sourceTensor).\n",
            "  x = torch.tensor(imgs).to(DEVICE, non_blocking=True)\n"
          ]
        },
        {
          "name": "stdout",
          "output_type": "stream",
          "text": [
            "Validation Loss: 0.0916 | Validation Accuracy: 1.0000\n",
            "epoch : 18\n"
          ]
        },
        {
          "name": "stderr",
          "output_type": "stream",
          "text": [
            "<ipython-input-10-3c610b8abcee>:80: UserWarning: To copy construct from a tensor, it is recommended to use sourceTensor.clone().detach() or sourceTensor.clone().detach().requires_grad_(True), rather than torch.tensor(sourceTensor).\n",
            "  x = torch.tensor(imgs).to(DEVICE, non_blocking=True)\n"
          ]
        },
        {
          "name": "stdout",
          "output_type": "stream",
          "text": [
            "Train Loss: 0.1972 | Train Accuracy: 0.9464 | Train F1 Score: 0.9211\n"
          ]
        },
        {
          "name": "stderr",
          "output_type": "stream",
          "text": [
            "<ipython-input-10-3c610b8abcee>:80: UserWarning: To copy construct from a tensor, it is recommended to use sourceTensor.clone().detach() or sourceTensor.clone().detach().requires_grad_(True), rather than torch.tensor(sourceTensor).\n",
            "  x = torch.tensor(imgs).to(DEVICE, non_blocking=True)\n"
          ]
        },
        {
          "name": "stdout",
          "output_type": "stream",
          "text": [
            "Validation Loss: 0.0852 | Validation Accuracy: 0.9655\n",
            "epoch : 19\n"
          ]
        },
        {
          "name": "stderr",
          "output_type": "stream",
          "text": [
            "<ipython-input-10-3c610b8abcee>:80: UserWarning: To copy construct from a tensor, it is recommended to use sourceTensor.clone().detach() or sourceTensor.clone().detach().requires_grad_(True), rather than torch.tensor(sourceTensor).\n",
            "  x = torch.tensor(imgs).to(DEVICE, non_blocking=True)\n"
          ]
        },
        {
          "name": "stdout",
          "output_type": "stream",
          "text": [
            "Train Loss: 0.2051 | Train Accuracy: 0.9554 | Train F1 Score: 0.9367\n"
          ]
        },
        {
          "name": "stderr",
          "output_type": "stream",
          "text": [
            "<ipython-input-10-3c610b8abcee>:80: UserWarning: To copy construct from a tensor, it is recommended to use sourceTensor.clone().detach() or sourceTensor.clone().detach().requires_grad_(True), rather than torch.tensor(sourceTensor).\n",
            "  x = torch.tensor(imgs).to(DEVICE, non_blocking=True)\n"
          ]
        },
        {
          "name": "stdout",
          "output_type": "stream",
          "text": [
            "Validation Loss: 0.0758 | Validation Accuracy: 1.0000\n",
            "epoch : 20\n"
          ]
        },
        {
          "name": "stderr",
          "output_type": "stream",
          "text": [
            "<ipython-input-10-3c610b8abcee>:80: UserWarning: To copy construct from a tensor, it is recommended to use sourceTensor.clone().detach() or sourceTensor.clone().detach().requires_grad_(True), rather than torch.tensor(sourceTensor).\n",
            "  x = torch.tensor(imgs).to(DEVICE, non_blocking=True)\n"
          ]
        },
        {
          "name": "stdout",
          "output_type": "stream",
          "text": [
            "Train Loss: 0.2045 | Train Accuracy: 0.9464 | Train F1 Score: 0.9231\n"
          ]
        },
        {
          "name": "stderr",
          "output_type": "stream",
          "text": [
            "<ipython-input-10-3c610b8abcee>:80: UserWarning: To copy construct from a tensor, it is recommended to use sourceTensor.clone().detach() or sourceTensor.clone().detach().requires_grad_(True), rather than torch.tensor(sourceTensor).\n",
            "  x = torch.tensor(imgs).to(DEVICE, non_blocking=True)\n"
          ]
        },
        {
          "name": "stdout",
          "output_type": "stream",
          "text": [
            "Validation Loss: 0.0807 | Validation Accuracy: 0.9655\n",
            "EarlyStopping counter: 1/10\n",
            "epoch : 21\n"
          ]
        },
        {
          "name": "stderr",
          "output_type": "stream",
          "text": [
            "<ipython-input-10-3c610b8abcee>:80: UserWarning: To copy construct from a tensor, it is recommended to use sourceTensor.clone().detach() or sourceTensor.clone().detach().requires_grad_(True), rather than torch.tensor(sourceTensor).\n",
            "  x = torch.tensor(imgs).to(DEVICE, non_blocking=True)\n"
          ]
        },
        {
          "name": "stdout",
          "output_type": "stream",
          "text": [
            "Train Loss: 0.1715 | Train Accuracy: 0.9375 | Train F1 Score: 0.9114\n"
          ]
        },
        {
          "name": "stderr",
          "output_type": "stream",
          "text": [
            "<ipython-input-10-3c610b8abcee>:80: UserWarning: To copy construct from a tensor, it is recommended to use sourceTensor.clone().detach() or sourceTensor.clone().detach().requires_grad_(True), rather than torch.tensor(sourceTensor).\n",
            "  x = torch.tensor(imgs).to(DEVICE, non_blocking=True)\n"
          ]
        },
        {
          "name": "stdout",
          "output_type": "stream",
          "text": [
            "Validation Loss: 0.0784 | Validation Accuracy: 0.9655\n",
            "EarlyStopping counter: 2/10\n",
            "epoch : 22\n"
          ]
        },
        {
          "name": "stderr",
          "output_type": "stream",
          "text": [
            "<ipython-input-10-3c610b8abcee>:80: UserWarning: To copy construct from a tensor, it is recommended to use sourceTensor.clone().detach() or sourceTensor.clone().detach().requires_grad_(True), rather than torch.tensor(sourceTensor).\n",
            "  x = torch.tensor(imgs).to(DEVICE, non_blocking=True)\n"
          ]
        },
        {
          "name": "stdout",
          "output_type": "stream",
          "text": [
            "Train Loss: 0.1236 | Train Accuracy: 0.9732 | Train F1 Score: 0.9577\n"
          ]
        },
        {
          "name": "stderr",
          "output_type": "stream",
          "text": [
            "<ipython-input-10-3c610b8abcee>:80: UserWarning: To copy construct from a tensor, it is recommended to use sourceTensor.clone().detach() or sourceTensor.clone().detach().requires_grad_(True), rather than torch.tensor(sourceTensor).\n",
            "  x = torch.tensor(imgs).to(DEVICE, non_blocking=True)\n"
          ]
        },
        {
          "name": "stdout",
          "output_type": "stream",
          "text": [
            "Validation Loss: 0.0658 | Validation Accuracy: 1.0000\n",
            "epoch : 23\n"
          ]
        },
        {
          "name": "stderr",
          "output_type": "stream",
          "text": [
            "<ipython-input-10-3c610b8abcee>:80: UserWarning: To copy construct from a tensor, it is recommended to use sourceTensor.clone().detach() or sourceTensor.clone().detach().requires_grad_(True), rather than torch.tensor(sourceTensor).\n",
            "  x = torch.tensor(imgs).to(DEVICE, non_blocking=True)\n"
          ]
        },
        {
          "name": "stdout",
          "output_type": "stream",
          "text": [
            "Train Loss: 0.2033 | Train Accuracy: 0.8929 | Train F1 Score: 0.8605\n"
          ]
        },
        {
          "name": "stderr",
          "output_type": "stream",
          "text": [
            "<ipython-input-10-3c610b8abcee>:80: UserWarning: To copy construct from a tensor, it is recommended to use sourceTensor.clone().detach() or sourceTensor.clone().detach().requires_grad_(True), rather than torch.tensor(sourceTensor).\n",
            "  x = torch.tensor(imgs).to(DEVICE, non_blocking=True)\n"
          ]
        },
        {
          "name": "stdout",
          "output_type": "stream",
          "text": [
            "Validation Loss: 0.0584 | Validation Accuracy: 1.0000\n",
            "epoch : 24\n"
          ]
        },
        {
          "name": "stderr",
          "output_type": "stream",
          "text": [
            "<ipython-input-10-3c610b8abcee>:80: UserWarning: To copy construct from a tensor, it is recommended to use sourceTensor.clone().detach() or sourceTensor.clone().detach().requires_grad_(True), rather than torch.tensor(sourceTensor).\n",
            "  x = torch.tensor(imgs).to(DEVICE, non_blocking=True)\n"
          ]
        },
        {
          "name": "stdout",
          "output_type": "stream",
          "text": [
            "Train Loss: 0.1418 | Train Accuracy: 0.9821 | Train F1 Score: 0.9722\n"
          ]
        },
        {
          "name": "stderr",
          "output_type": "stream",
          "text": [
            "<ipython-input-10-3c610b8abcee>:80: UserWarning: To copy construct from a tensor, it is recommended to use sourceTensor.clone().detach() or sourceTensor.clone().detach().requires_grad_(True), rather than torch.tensor(sourceTensor).\n",
            "  x = torch.tensor(imgs).to(DEVICE, non_blocking=True)\n"
          ]
        },
        {
          "name": "stdout",
          "output_type": "stream",
          "text": [
            "Validation Loss: 0.0584 | Validation Accuracy: 1.0000\n",
            "epoch : 25\n"
          ]
        },
        {
          "name": "stderr",
          "output_type": "stream",
          "text": [
            "<ipython-input-10-3c610b8abcee>:80: UserWarning: To copy construct from a tensor, it is recommended to use sourceTensor.clone().detach() or sourceTensor.clone().detach().requires_grad_(True), rather than torch.tensor(sourceTensor).\n",
            "  x = torch.tensor(imgs).to(DEVICE, non_blocking=True)\n"
          ]
        },
        {
          "name": "stdout",
          "output_type": "stream",
          "text": [
            "Train Loss: 0.1212 | Train Accuracy: 0.9554 | Train F1 Score: 0.9351\n"
          ]
        },
        {
          "name": "stderr",
          "output_type": "stream",
          "text": [
            "<ipython-input-10-3c610b8abcee>:80: UserWarning: To copy construct from a tensor, it is recommended to use sourceTensor.clone().detach() or sourceTensor.clone().detach().requires_grad_(True), rather than torch.tensor(sourceTensor).\n",
            "  x = torch.tensor(imgs).to(DEVICE, non_blocking=True)\n"
          ]
        },
        {
          "name": "stdout",
          "output_type": "stream",
          "text": [
            "Validation Loss: 0.0617 | Validation Accuracy: 1.0000\n",
            "EarlyStopping counter: 1/10\n",
            "epoch : 26\n"
          ]
        },
        {
          "name": "stderr",
          "output_type": "stream",
          "text": [
            "<ipython-input-10-3c610b8abcee>:80: UserWarning: To copy construct from a tensor, it is recommended to use sourceTensor.clone().detach() or sourceTensor.clone().detach().requires_grad_(True), rather than torch.tensor(sourceTensor).\n",
            "  x = torch.tensor(imgs).to(DEVICE, non_blocking=True)\n"
          ]
        },
        {
          "name": "stdout",
          "output_type": "stream",
          "text": [
            "Train Loss: 0.1652 | Train Accuracy: 0.9821 | Train F1 Score: 0.9714\n"
          ]
        },
        {
          "name": "stderr",
          "output_type": "stream",
          "text": [
            "<ipython-input-10-3c610b8abcee>:80: UserWarning: To copy construct from a tensor, it is recommended to use sourceTensor.clone().detach() or sourceTensor.clone().detach().requires_grad_(True), rather than torch.tensor(sourceTensor).\n",
            "  x = torch.tensor(imgs).to(DEVICE, non_blocking=True)\n"
          ]
        },
        {
          "name": "stdout",
          "output_type": "stream",
          "text": [
            "Validation Loss: 0.0617 | Validation Accuracy: 1.0000\n",
            "EarlyStopping counter: 2/10\n",
            "epoch : 27\n"
          ]
        },
        {
          "name": "stderr",
          "output_type": "stream",
          "text": [
            "<ipython-input-10-3c610b8abcee>:80: UserWarning: To copy construct from a tensor, it is recommended to use sourceTensor.clone().detach() or sourceTensor.clone().detach().requires_grad_(True), rather than torch.tensor(sourceTensor).\n",
            "  x = torch.tensor(imgs).to(DEVICE, non_blocking=True)\n"
          ]
        },
        {
          "name": "stdout",
          "output_type": "stream",
          "text": [
            "Train Loss: 0.1566 | Train Accuracy: 0.9732 | Train F1 Score: 0.9577\n"
          ]
        },
        {
          "name": "stderr",
          "output_type": "stream",
          "text": [
            "<ipython-input-10-3c610b8abcee>:80: UserWarning: To copy construct from a tensor, it is recommended to use sourceTensor.clone().detach() or sourceTensor.clone().detach().requires_grad_(True), rather than torch.tensor(sourceTensor).\n",
            "  x = torch.tensor(imgs).to(DEVICE, non_blocking=True)\n"
          ]
        },
        {
          "name": "stdout",
          "output_type": "stream",
          "text": [
            "Validation Loss: 0.0591 | Validation Accuracy: 1.0000\n",
            "EarlyStopping counter: 3/10\n",
            "epoch : 28\n"
          ]
        },
        {
          "name": "stderr",
          "output_type": "stream",
          "text": [
            "<ipython-input-10-3c610b8abcee>:80: UserWarning: To copy construct from a tensor, it is recommended to use sourceTensor.clone().detach() or sourceTensor.clone().detach().requires_grad_(True), rather than torch.tensor(sourceTensor).\n",
            "  x = torch.tensor(imgs).to(DEVICE, non_blocking=True)\n"
          ]
        },
        {
          "name": "stdout",
          "output_type": "stream",
          "text": [
            "Train Loss: 0.1642 | Train Accuracy: 0.9554 | Train F1 Score: 0.9351\n"
          ]
        },
        {
          "name": "stderr",
          "output_type": "stream",
          "text": [
            "<ipython-input-10-3c610b8abcee>:80: UserWarning: To copy construct from a tensor, it is recommended to use sourceTensor.clone().detach() or sourceTensor.clone().detach().requires_grad_(True), rather than torch.tensor(sourceTensor).\n",
            "  x = torch.tensor(imgs).to(DEVICE, non_blocking=True)\n"
          ]
        },
        {
          "name": "stdout",
          "output_type": "stream",
          "text": [
            "Validation Loss: 0.0592 | Validation Accuracy: 1.0000\n",
            "EarlyStopping counter: 4/10\n",
            "epoch : 29\n"
          ]
        },
        {
          "name": "stderr",
          "output_type": "stream",
          "text": [
            "<ipython-input-10-3c610b8abcee>:80: UserWarning: To copy construct from a tensor, it is recommended to use sourceTensor.clone().detach() or sourceTensor.clone().detach().requires_grad_(True), rather than torch.tensor(sourceTensor).\n",
            "  x = torch.tensor(imgs).to(DEVICE, non_blocking=True)\n"
          ]
        },
        {
          "name": "stdout",
          "output_type": "stream",
          "text": [
            "Train Loss: 0.1437 | Train Accuracy: 0.9643 | Train F1 Score: 0.9474\n"
          ]
        },
        {
          "name": "stderr",
          "output_type": "stream",
          "text": [
            "<ipython-input-10-3c610b8abcee>:80: UserWarning: To copy construct from a tensor, it is recommended to use sourceTensor.clone().detach() or sourceTensor.clone().detach().requires_grad_(True), rather than torch.tensor(sourceTensor).\n",
            "  x = torch.tensor(imgs).to(DEVICE, non_blocking=True)\n"
          ]
        },
        {
          "name": "stdout",
          "output_type": "stream",
          "text": [
            "Validation Loss: 0.0574 | Validation Accuracy: 1.0000\n",
            "epoch : 30\n"
          ]
        },
        {
          "name": "stderr",
          "output_type": "stream",
          "text": [
            "<ipython-input-10-3c610b8abcee>:80: UserWarning: To copy construct from a tensor, it is recommended to use sourceTensor.clone().detach() or sourceTensor.clone().detach().requires_grad_(True), rather than torch.tensor(sourceTensor).\n",
            "  x = torch.tensor(imgs).to(DEVICE, non_blocking=True)\n"
          ]
        },
        {
          "name": "stdout",
          "output_type": "stream",
          "text": [
            "Train Loss: 0.1584 | Train Accuracy: 0.9464 | Train F1 Score: 0.9231\n"
          ]
        },
        {
          "name": "stderr",
          "output_type": "stream",
          "text": [
            "<ipython-input-10-3c610b8abcee>:80: UserWarning: To copy construct from a tensor, it is recommended to use sourceTensor.clone().detach() or sourceTensor.clone().detach().requires_grad_(True), rather than torch.tensor(sourceTensor).\n",
            "  x = torch.tensor(imgs).to(DEVICE, non_blocking=True)\n"
          ]
        },
        {
          "name": "stdout",
          "output_type": "stream",
          "text": [
            "Validation Loss: 0.0538 | Validation Accuracy: 1.0000\n",
            "epoch : 31\n"
          ]
        },
        {
          "name": "stderr",
          "output_type": "stream",
          "text": [
            "<ipython-input-10-3c610b8abcee>:80: UserWarning: To copy construct from a tensor, it is recommended to use sourceTensor.clone().detach() or sourceTensor.clone().detach().requires_grad_(True), rather than torch.tensor(sourceTensor).\n",
            "  x = torch.tensor(imgs).to(DEVICE, non_blocking=True)\n"
          ]
        },
        {
          "name": "stdout",
          "output_type": "stream",
          "text": [
            "Train Loss: 0.1390 | Train Accuracy: 0.9643 | Train F1 Score: 0.9459\n"
          ]
        },
        {
          "name": "stderr",
          "output_type": "stream",
          "text": [
            "<ipython-input-10-3c610b8abcee>:80: UserWarning: To copy construct from a tensor, it is recommended to use sourceTensor.clone().detach() or sourceTensor.clone().detach().requires_grad_(True), rather than torch.tensor(sourceTensor).\n",
            "  x = torch.tensor(imgs).to(DEVICE, non_blocking=True)\n"
          ]
        },
        {
          "name": "stdout",
          "output_type": "stream",
          "text": [
            "Validation Loss: 0.0510 | Validation Accuracy: 1.0000\n",
            "epoch : 32\n"
          ]
        },
        {
          "name": "stderr",
          "output_type": "stream",
          "text": [
            "<ipython-input-10-3c610b8abcee>:80: UserWarning: To copy construct from a tensor, it is recommended to use sourceTensor.clone().detach() or sourceTensor.clone().detach().requires_grad_(True), rather than torch.tensor(sourceTensor).\n",
            "  x = torch.tensor(imgs).to(DEVICE, non_blocking=True)\n"
          ]
        },
        {
          "name": "stdout",
          "output_type": "stream",
          "text": [
            "Train Loss: 0.1545 | Train Accuracy: 0.9554 | Train F1 Score: 0.9367\n"
          ]
        },
        {
          "name": "stderr",
          "output_type": "stream",
          "text": [
            "<ipython-input-10-3c610b8abcee>:80: UserWarning: To copy construct from a tensor, it is recommended to use sourceTensor.clone().detach() or sourceTensor.clone().detach().requires_grad_(True), rather than torch.tensor(sourceTensor).\n",
            "  x = torch.tensor(imgs).to(DEVICE, non_blocking=True)\n"
          ]
        },
        {
          "name": "stdout",
          "output_type": "stream",
          "text": [
            "Validation Loss: 0.0507 | Validation Accuracy: 1.0000\n",
            "epoch : 33\n"
          ]
        },
        {
          "name": "stderr",
          "output_type": "stream",
          "text": [
            "<ipython-input-10-3c610b8abcee>:80: UserWarning: To copy construct from a tensor, it is recommended to use sourceTensor.clone().detach() or sourceTensor.clone().detach().requires_grad_(True), rather than torch.tensor(sourceTensor).\n",
            "  x = torch.tensor(imgs).to(DEVICE, non_blocking=True)\n"
          ]
        },
        {
          "name": "stdout",
          "output_type": "stream",
          "text": [
            "Train Loss: 0.1452 | Train Accuracy: 0.9732 | Train F1 Score: 0.9610\n"
          ]
        },
        {
          "name": "stderr",
          "output_type": "stream",
          "text": [
            "<ipython-input-10-3c610b8abcee>:80: UserWarning: To copy construct from a tensor, it is recommended to use sourceTensor.clone().detach() or sourceTensor.clone().detach().requires_grad_(True), rather than torch.tensor(sourceTensor).\n",
            "  x = torch.tensor(imgs).to(DEVICE, non_blocking=True)\n"
          ]
        },
        {
          "name": "stdout",
          "output_type": "stream",
          "text": [
            "Validation Loss: 0.0506 | Validation Accuracy: 1.0000\n",
            "epoch : 34\n"
          ]
        },
        {
          "name": "stderr",
          "output_type": "stream",
          "text": [
            "<ipython-input-10-3c610b8abcee>:80: UserWarning: To copy construct from a tensor, it is recommended to use sourceTensor.clone().detach() or sourceTensor.clone().detach().requires_grad_(True), rather than torch.tensor(sourceTensor).\n",
            "  x = torch.tensor(imgs).to(DEVICE, non_blocking=True)\n"
          ]
        },
        {
          "name": "stdout",
          "output_type": "stream",
          "text": [
            "Train Loss: 0.1184 | Train Accuracy: 0.9643 | Train F1 Score: 0.9459\n"
          ]
        },
        {
          "name": "stderr",
          "output_type": "stream",
          "text": [
            "<ipython-input-10-3c610b8abcee>:80: UserWarning: To copy construct from a tensor, it is recommended to use sourceTensor.clone().detach() or sourceTensor.clone().detach().requires_grad_(True), rather than torch.tensor(sourceTensor).\n",
            "  x = torch.tensor(imgs).to(DEVICE, non_blocking=True)\n"
          ]
        },
        {
          "name": "stdout",
          "output_type": "stream",
          "text": [
            "Validation Loss: 0.0507 | Validation Accuracy: 1.0000\n",
            "EarlyStopping counter: 1/10\n",
            "epoch : 35\n"
          ]
        },
        {
          "name": "stderr",
          "output_type": "stream",
          "text": [
            "<ipython-input-10-3c610b8abcee>:80: UserWarning: To copy construct from a tensor, it is recommended to use sourceTensor.clone().detach() or sourceTensor.clone().detach().requires_grad_(True), rather than torch.tensor(sourceTensor).\n",
            "  x = torch.tensor(imgs).to(DEVICE, non_blocking=True)\n"
          ]
        },
        {
          "name": "stdout",
          "output_type": "stream",
          "text": [
            "Train Loss: 0.1705 | Train Accuracy: 0.9286 | Train F1 Score: 0.8947\n"
          ]
        },
        {
          "name": "stderr",
          "output_type": "stream",
          "text": [
            "<ipython-input-10-3c610b8abcee>:80: UserWarning: To copy construct from a tensor, it is recommended to use sourceTensor.clone().detach() or sourceTensor.clone().detach().requires_grad_(True), rather than torch.tensor(sourceTensor).\n",
            "  x = torch.tensor(imgs).to(DEVICE, non_blocking=True)\n"
          ]
        },
        {
          "name": "stdout",
          "output_type": "stream",
          "text": [
            "Validation Loss: 0.0514 | Validation Accuracy: 1.0000\n",
            "EarlyStopping counter: 2/10\n",
            "epoch : 36\n"
          ]
        },
        {
          "name": "stderr",
          "output_type": "stream",
          "text": [
            "<ipython-input-10-3c610b8abcee>:80: UserWarning: To copy construct from a tensor, it is recommended to use sourceTensor.clone().detach() or sourceTensor.clone().detach().requires_grad_(True), rather than torch.tensor(sourceTensor).\n",
            "  x = torch.tensor(imgs).to(DEVICE, non_blocking=True)\n"
          ]
        },
        {
          "name": "stdout",
          "output_type": "stream",
          "text": [
            "Train Loss: 0.1447 | Train Accuracy: 0.9464 | Train F1 Score: 0.9250\n"
          ]
        },
        {
          "name": "stderr",
          "output_type": "stream",
          "text": [
            "<ipython-input-10-3c610b8abcee>:80: UserWarning: To copy construct from a tensor, it is recommended to use sourceTensor.clone().detach() or sourceTensor.clone().detach().requires_grad_(True), rather than torch.tensor(sourceTensor).\n",
            "  x = torch.tensor(imgs).to(DEVICE, non_blocking=True)\n"
          ]
        },
        {
          "name": "stdout",
          "output_type": "stream",
          "text": [
            "Validation Loss: 0.0533 | Validation Accuracy: 1.0000\n",
            "EarlyStopping counter: 3/10\n",
            "epoch : 37\n"
          ]
        },
        {
          "name": "stderr",
          "output_type": "stream",
          "text": [
            "<ipython-input-10-3c610b8abcee>:80: UserWarning: To copy construct from a tensor, it is recommended to use sourceTensor.clone().detach() or sourceTensor.clone().detach().requires_grad_(True), rather than torch.tensor(sourceTensor).\n",
            "  x = torch.tensor(imgs).to(DEVICE, non_blocking=True)\n"
          ]
        },
        {
          "name": "stdout",
          "output_type": "stream",
          "text": [
            "Train Loss: 0.1277 | Train Accuracy: 0.9732 | Train F1 Score: 0.9589\n"
          ]
        },
        {
          "name": "stderr",
          "output_type": "stream",
          "text": [
            "<ipython-input-10-3c610b8abcee>:80: UserWarning: To copy construct from a tensor, it is recommended to use sourceTensor.clone().detach() or sourceTensor.clone().detach().requires_grad_(True), rather than torch.tensor(sourceTensor).\n",
            "  x = torch.tensor(imgs).to(DEVICE, non_blocking=True)\n"
          ]
        },
        {
          "name": "stdout",
          "output_type": "stream",
          "text": [
            "Validation Loss: 0.0547 | Validation Accuracy: 1.0000\n",
            "EarlyStopping counter: 4/10\n",
            "epoch : 38\n"
          ]
        },
        {
          "name": "stderr",
          "output_type": "stream",
          "text": [
            "<ipython-input-10-3c610b8abcee>:80: UserWarning: To copy construct from a tensor, it is recommended to use sourceTensor.clone().detach() or sourceTensor.clone().detach().requires_grad_(True), rather than torch.tensor(sourceTensor).\n",
            "  x = torch.tensor(imgs).to(DEVICE, non_blocking=True)\n"
          ]
        },
        {
          "name": "stdout",
          "output_type": "stream",
          "text": [
            "Train Loss: 0.0892 | Train Accuracy: 0.9821 | Train F1 Score: 0.9730\n"
          ]
        },
        {
          "name": "stderr",
          "output_type": "stream",
          "text": [
            "<ipython-input-10-3c610b8abcee>:80: UserWarning: To copy construct from a tensor, it is recommended to use sourceTensor.clone().detach() or sourceTensor.clone().detach().requires_grad_(True), rather than torch.tensor(sourceTensor).\n",
            "  x = torch.tensor(imgs).to(DEVICE, non_blocking=True)\n"
          ]
        },
        {
          "name": "stdout",
          "output_type": "stream",
          "text": [
            "Validation Loss: 0.0554 | Validation Accuracy: 1.0000\n",
            "EarlyStopping counter: 5/10\n",
            "epoch : 39\n"
          ]
        },
        {
          "name": "stderr",
          "output_type": "stream",
          "text": [
            "<ipython-input-10-3c610b8abcee>:80: UserWarning: To copy construct from a tensor, it is recommended to use sourceTensor.clone().detach() or sourceTensor.clone().detach().requires_grad_(True), rather than torch.tensor(sourceTensor).\n",
            "  x = torch.tensor(imgs).to(DEVICE, non_blocking=True)\n"
          ]
        },
        {
          "name": "stdout",
          "output_type": "stream",
          "text": [
            "Train Loss: 0.1292 | Train Accuracy: 0.9821 | Train F1 Score: 0.9722\n"
          ]
        },
        {
          "name": "stderr",
          "output_type": "stream",
          "text": [
            "<ipython-input-10-3c610b8abcee>:80: UserWarning: To copy construct from a tensor, it is recommended to use sourceTensor.clone().detach() or sourceTensor.clone().detach().requires_grad_(True), rather than torch.tensor(sourceTensor).\n",
            "  x = torch.tensor(imgs).to(DEVICE, non_blocking=True)\n"
          ]
        },
        {
          "name": "stdout",
          "output_type": "stream",
          "text": [
            "Validation Loss: 0.0551 | Validation Accuracy: 1.0000\n",
            "EarlyStopping counter: 6/10\n",
            "epoch : 40\n"
          ]
        },
        {
          "name": "stderr",
          "output_type": "stream",
          "text": [
            "<ipython-input-10-3c610b8abcee>:80: UserWarning: To copy construct from a tensor, it is recommended to use sourceTensor.clone().detach() or sourceTensor.clone().detach().requires_grad_(True), rather than torch.tensor(sourceTensor).\n",
            "  x = torch.tensor(imgs).to(DEVICE, non_blocking=True)\n"
          ]
        },
        {
          "name": "stdout",
          "output_type": "stream",
          "text": [
            "Train Loss: 0.1398 | Train Accuracy: 0.9464 | Train F1 Score: 0.9250\n"
          ]
        },
        {
          "name": "stderr",
          "output_type": "stream",
          "text": [
            "<ipython-input-10-3c610b8abcee>:80: UserWarning: To copy construct from a tensor, it is recommended to use sourceTensor.clone().detach() or sourceTensor.clone().detach().requires_grad_(True), rather than torch.tensor(sourceTensor).\n",
            "  x = torch.tensor(imgs).to(DEVICE, non_blocking=True)\n"
          ]
        },
        {
          "name": "stdout",
          "output_type": "stream",
          "text": [
            "Validation Loss: 0.0547 | Validation Accuracy: 1.0000\n",
            "EarlyStopping counter: 7/10\n",
            "epoch : 41\n"
          ]
        },
        {
          "name": "stderr",
          "output_type": "stream",
          "text": [
            "<ipython-input-10-3c610b8abcee>:80: UserWarning: To copy construct from a tensor, it is recommended to use sourceTensor.clone().detach() or sourceTensor.clone().detach().requires_grad_(True), rather than torch.tensor(sourceTensor).\n",
            "  x = torch.tensor(imgs).to(DEVICE, non_blocking=True)\n"
          ]
        },
        {
          "name": "stdout",
          "output_type": "stream",
          "text": [
            "Train Loss: 0.1108 | Train Accuracy: 0.9821 | Train F1 Score: 0.9714\n"
          ]
        },
        {
          "name": "stderr",
          "output_type": "stream",
          "text": [
            "<ipython-input-10-3c610b8abcee>:80: UserWarning: To copy construct from a tensor, it is recommended to use sourceTensor.clone().detach() or sourceTensor.clone().detach().requires_grad_(True), rather than torch.tensor(sourceTensor).\n",
            "  x = torch.tensor(imgs).to(DEVICE, non_blocking=True)\n"
          ]
        },
        {
          "name": "stdout",
          "output_type": "stream",
          "text": [
            "Validation Loss: 0.0543 | Validation Accuracy: 1.0000\n",
            "EarlyStopping counter: 8/10\n",
            "epoch : 42\n"
          ]
        },
        {
          "name": "stderr",
          "output_type": "stream",
          "text": [
            "<ipython-input-10-3c610b8abcee>:80: UserWarning: To copy construct from a tensor, it is recommended to use sourceTensor.clone().detach() or sourceTensor.clone().detach().requires_grad_(True), rather than torch.tensor(sourceTensor).\n",
            "  x = torch.tensor(imgs).to(DEVICE, non_blocking=True)\n"
          ]
        },
        {
          "name": "stdout",
          "output_type": "stream",
          "text": [
            "Train Loss: 0.0991 | Train Accuracy: 0.9821 | Train F1 Score: 0.9722\n"
          ]
        },
        {
          "name": "stderr",
          "output_type": "stream",
          "text": [
            "<ipython-input-10-3c610b8abcee>:80: UserWarning: To copy construct from a tensor, it is recommended to use sourceTensor.clone().detach() or sourceTensor.clone().detach().requires_grad_(True), rather than torch.tensor(sourceTensor).\n",
            "  x = torch.tensor(imgs).to(DEVICE, non_blocking=True)\n"
          ]
        },
        {
          "name": "stdout",
          "output_type": "stream",
          "text": [
            "Validation Loss: 0.0535 | Validation Accuracy: 1.0000\n",
            "EarlyStopping counter: 9/10\n",
            "epoch : 43\n"
          ]
        },
        {
          "name": "stderr",
          "output_type": "stream",
          "text": [
            "<ipython-input-10-3c610b8abcee>:80: UserWarning: To copy construct from a tensor, it is recommended to use sourceTensor.clone().detach() or sourceTensor.clone().detach().requires_grad_(True), rather than torch.tensor(sourceTensor).\n",
            "  x = torch.tensor(imgs).to(DEVICE, non_blocking=True)\n"
          ]
        },
        {
          "name": "stdout",
          "output_type": "stream",
          "text": [
            "Train Loss: 0.1262 | Train Accuracy: 0.9554 | Train F1 Score: 0.9367\n"
          ]
        },
        {
          "name": "stderr",
          "output_type": "stream",
          "text": [
            "<ipython-input-10-3c610b8abcee>:80: UserWarning: To copy construct from a tensor, it is recommended to use sourceTensor.clone().detach() or sourceTensor.clone().detach().requires_grad_(True), rather than torch.tensor(sourceTensor).\n",
            "  x = torch.tensor(imgs).to(DEVICE, non_blocking=True)\n"
          ]
        },
        {
          "name": "stdout",
          "output_type": "stream",
          "text": [
            "Validation Loss: 0.0534 | Validation Accuracy: 1.0000\n",
            "EarlyStopping counter: 10/10\n",
            "Early stopping triggered\n"
          ]
        },
        {
          "name": "stderr",
          "output_type": "stream",
          "text": [
            "<ipython-input-10-3c610b8abcee>:80: UserWarning: To copy construct from a tensor, it is recommended to use sourceTensor.clone().detach() or sourceTensor.clone().detach().requires_grad_(True), rather than torch.tensor(sourceTensor).\n",
            "  x = torch.tensor(imgs).to(DEVICE, non_blocking=True)\n"
          ]
        },
        {
          "name": "stdout",
          "output_type": "stream",
          "text": [
            "Test Loss: 0.1343\n",
            "Test Accuracy: 0.9737\n",
            "Test F1 Score: 0.9655\n",
            "Test Precision: 0.9333\n",
            "Test Recall (Sensitivity): 1.0000\n",
            "Test Specificity: 0.9583\n",
            "Test AUC-ROC: 0.9792\n"
          ]
        }
      ],
      "source": [
        "\n",
        "DEVICE = torch.device(\"cuda\")\n",
        "device = torch.device(\"cuda\")\n",
        "BATCHSIZE = 16\n",
        "CLASSES = 1\n",
        "DIR = os.getcwd()\n",
        "EPOCHS = 50\n",
        "N_TRAIN_EXAMPLES = BATCHSIZE * 30\n",
        "N_VALID_EXAMPLES = BATCHSIZE * 10\n",
        "\n",
        "vit_encoder_TM, vit_encoder_SLO, classifier = best_model()\n",
        "\n",
        "merged_model_iran = MergedModel_IRAN(vit_encoder_TM, vit_encoder_SLO, classifier)\n",
        "merged_model_iran.to(DEVICE)\n",
        "\n",
        "\n",
        "param_groups = merged_model_iran.get_param_groups_lrd(weight_decay=1e-5, layer_decay=0.6)\n",
        "\n",
        "lr = 0.011877810264748673\n",
        "\n",
        "optimizer = torch.optim.AdamW(param_groups, lr)\n",
        "\n",
        "\n",
        "\n",
        "\n",
        "train_loader, valid_loader, test_loader = get_data_merged()\n",
        "\n",
        "early_stopping = EarlyStopping(patience=10, verbose=True)\n",
        "\n",
        "scheduler = ReduceLROnPlateau(optimizer, mode='max', factor=0.1, patience=10, min_lr=1e-6, verbose=True)\n",
        "\n",
        "train_losses = []\n",
        "val_losses = []\n",
        "\n",
        "\n",
        "for epoch in range(EPOCHS):\n",
        "    epoch_train_loss = 0.0\n",
        "    print(f\"epoch : {epoch}\", flush=True)\n",
        "    merged_model_iran.train()\n",
        "    train_targets, train_preds = [], []\n",
        "\n",
        "    for slo_img, thickness_img, target in train_loader:\n",
        "\n",
        "\n",
        "        slo_img, thickness_img, target = slo_img.to(device), thickness_img.to(device), target.to(device)\n",
        "\n",
        "        optimizer.zero_grad()\n",
        "\n",
        "        output = merged_model_iran(thickness_img, slo_img)\n",
        "\n",
        "        target = target.to(DEVICE)\n",
        "\n",
        "\n",
        "        criterion = nn.BCELoss()\n",
        "        if BATCHSIZE != 1:\n",
        "          output = output.squeeze()\n",
        "        loss = criterion(output, target.float())\n",
        "\n",
        "        loss.backward()\n",
        "        optimizer.step()\n",
        "\n",
        "        predicted = (output > 0.5).float()\n",
        "        epoch_train_loss += loss.item()\n",
        "\n",
        "        train_preds.extend(predicted.cpu().numpy())\n",
        "        train_targets.extend(target.cpu().numpy())\n",
        "\n",
        "    train_acc = accuracy_score(train_targets, train_preds)\n",
        "    train_f1 = f1_score(train_targets, train_preds)\n",
        "    epoch_train_loss /= len(train_loader)\n",
        "    train_losses.append(epoch_train_loss)\n",
        "\n",
        "    print(f\"Train Loss: {epoch_train_loss:.4f} | Train Accuracy: {train_acc:.4f} | Train F1 Score: {train_f1:.4f}\")\n",
        "\n",
        "\n",
        "    merged_model_iran.eval()\n",
        "\n",
        "    all_targets = []\n",
        "    all_predictions = []\n",
        "\n",
        "    vl_loss = 0.0\n",
        "    with torch.no_grad():\n",
        "        for slo_img, thickness_img, target in valid_loader:\n",
        "\n",
        "            slo_img, thickness_img, target = slo_img.to(device), thickness_img.to(device), target.to(device)\n",
        "\n",
        "            output = merged_model_iran(thickness_img, slo_img)\n",
        "\n",
        "            target = target.to(DEVICE)\n",
        "\n",
        "\n",
        "            if BATCHSIZE != 1:\n",
        "              output = output.squeeze()\n",
        "\n",
        "\n",
        "            vl_loss += criterion(output, target.float()).item()\n",
        "\n",
        "\n",
        "            pred = (output > 0.5).float()\n",
        "            all_targets.extend(target.cpu().numpy())\n",
        "            all_predictions.extend(pred.cpu().numpy())\n",
        "\n",
        "    vl_l = vl_loss\n",
        "    vl_loss /= len(valid_loader)\n",
        "    val_losses.append(vl_loss)\n",
        "    val_accuracy = accuracy_score(all_targets, all_predictions)\n",
        "    print(f\"Validation Loss: {vl_loss:.4f} | Validation Accuracy: {val_accuracy:.4f}\")\n",
        "\n",
        "\n",
        "\n",
        "\n",
        "    scheduler.step(val_accuracy)\n",
        "\n",
        "\n",
        "    if early_stopping(vl_l):\n",
        "        print(\"Early stopping triggered\")\n",
        "        break\n",
        "\n",
        "\n",
        "merged_model_iran.eval()\n",
        "all_targets_t = []\n",
        "all_predictions_t = []\n",
        "\n",
        "test_loss = 0.0\n",
        "with torch.no_grad():\n",
        "    for slo_img, thickness_img, target in test_loader:\n",
        "        slo_img, thickness_img, target = slo_img.to(device), thickness_img.to(device), target.to(device)\n",
        "\n",
        "        output = merged_model_iran(thickness_img, slo_img)\n",
        "\n",
        "        if BATCHSIZE != 1:\n",
        "            output = output.squeeze()\n",
        "\n",
        "        test_loss += criterion(output, target.float()).item()\n",
        "        pred = (output > 0.5).float()\n",
        "        all_targets_t.extend(target.cpu().numpy())\n",
        "        all_predictions_t.extend(pred.cpu().numpy())\n",
        "\n",
        "test_loss /= len(test_loader)\n",
        "\n",
        "\n",
        "accuracy_t = accuracy_score(all_targets_t, all_predictions_t)\n",
        "f1 = f1_score(all_targets_t, all_predictions_t)\n",
        "precision = precision_score(all_targets_t, all_predictions_t)\n",
        "recall = recall_score(all_targets_t, all_predictions_t)\n",
        "auc_roc = roc_auc_score(all_targets_t, all_predictions_t)\n",
        "\n",
        "tn, fp, fn, tp = confusion_matrix(all_targets_t, all_predictions_t).ravel()\n",
        "specificity = tn / (tn + fp)\n",
        "\n",
        "print(f\"Test Loss: {test_loss:.4f}\")\n",
        "print(f\"Test Accuracy: {accuracy_t:.4f}\")\n",
        "print(f\"Test F1 Score: {f1:.4f}\")\n",
        "print(f\"Test Precision: {precision:.4f}\")\n",
        "print(f\"Test Recall (Sensitivity): {recall:.4f}\")\n",
        "print(f\"Test Specificity: {specificity:.4f}\")\n",
        "print(f\"Test AUC-ROC: {auc_roc:.4f}\")\n",
        "\n",
        "\n",
        "torch.save(classifier.state_dict(), 'classifier_weights_unfreezed_2layers.pth')\n",
        "torch.save(merged_model_iran.vit_encoder_TM.state_dict(), 'vit_encoder_TM_unfreezed_2layers.pth')\n",
        "torch.save(merged_model_iran.vit_encoder_SLO.state_dict(), 'vit_encoder_SLO_unfreezed_2layers.pth')\n"
      ]
    },
    {
      "cell_type": "code",
      "execution_count": null,
      "metadata": {
        "colab": {
          "base_uri": "https://localhost:8080/",
          "height": 487
        },
        "id": "0XhTOSoa3Zdx",
        "outputId": "298a5e2e-7f04-4849-ebd5-fc284097d472"
      },
      "outputs": [
        {
          "data": {
            "image/png": "[encoded data removed]",
            "text/plain": [
              "<Figure size 1000x500 with 1 Axes>"
            ]
          },
          "metadata": {},
          "output_type": "display_data"
        }
      ],
      "source": [
        "# Plot training and validation loss\n",
        "plt.figure(figsize=(10,5))\n",
        "plt.plot(range(len(train_losses)), train_losses, label='Train Loss')\n",
        "plt.plot(range(len(val_losses)), val_losses, label='Validation Loss')\n",
        "plt.xlabel('Epochs')\n",
        "plt.ylabel('Loss')\n",
        "plt.legend()\n",
        "plt.title('Training and Validation Loss')\n",
        "plt.show()"
      ]
    }
  ]
}